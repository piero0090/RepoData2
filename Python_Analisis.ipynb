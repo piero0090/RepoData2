{
  "nbformat": 4,
  "nbformat_minor": 0,
  "metadata": {
    "colab": {
      "provenance": [],
      "authorship_tag": "ABX9TyPZHfzhCgMz+asYxSmuEe6E",
      "include_colab_link": true
    },
    "kernelspec": {
      "name": "python3",
      "display_name": "Python 3"
    },
    "language_info": {
      "name": "python"
    }
  },
  "cells": [
    {
      "cell_type": "markdown",
      "metadata": {
        "id": "view-in-github",
        "colab_type": "text"
      },
      "source": [
        "<a href=\"https://colab.research.google.com/github/piero0090/RepoData2/blob/main/Python_Analisis.ipynb\" target=\"_parent\"><img src=\"https://colab.research.google.com/assets/colab-badge.svg\" alt=\"Open In Colab\"/></a>"
      ]
    },
    {
      "cell_type": "markdown",
      "source": [
        "# **Aplicación de Python para análisis de datos**"
      ],
      "metadata": {
        "id": "3iBoFm2kuLZs"
      }
    },
    {
      "cell_type": "code",
      "execution_count": 1,
      "metadata": {
        "id": "sTBj-SqvtNP3"
      },
      "outputs": [],
      "source": [
        "import pandas as pd \n",
        "import numpy as np\n",
        "import matplotlib.pyplot as plt\n",
        "import seaborn as sns"
      ]
    },
    {
      "cell_type": "markdown",
      "source": [
        "*IMDb (abreviatura de Internet Movie Database) es una base de datos en línea de información relacionada con películas, series de televisión, vídeos domésticos, videojuegos y contenidos en línea en streaming, que incluye biografías del reparto, del equipo de producción y personales, resúmenes de la trama, trivialidades, clasificaciones y reseñas de fans y críticos.*"
      ],
      "metadata": {
        "id": "LyWR1iPYxfBQ"
      }
    },
    {
      "cell_type": "markdown",
      "source": [
        "## **Lectura de datos**"
      ],
      "metadata": {
        "id": "iMMTsvK8vn_O"
      }
    },
    {
      "cell_type": "code",
      "source": [
        "#Dataset de películas\n",
        "df01 = pd.read_csv('/content/imdb(MOVIES).csv')\n",
        "df01.name = 'Peliculas'\n",
        "df01.head(3)"
      ],
      "metadata": {
        "colab": {
          "base_uri": "https://localhost:8080/",
          "height": 485
        },
        "id": "abcPYJ_Vv53J",
        "outputId": "e1cfd85e-6c1e-49f3-9571-868edf673591"
      },
      "execution_count": 2,
      "outputs": [
        {
          "output_type": "execute_result",
          "data": {
            "text/plain": [
              "   ranking of movie               movie name    Year certificate  runtime  \\\n",
              "0                 1                  Jai Bhim  -2021       TV-MA  164 min   \n",
              "1                 2  The Shawshank Redemption  -1994           R  142 min   \n",
              "2                 3             The Godfather  -1972           R  175 min   \n",
              "\n",
              "          genre  RATING                                 DETAIL ABOUT MOVIE  \\\n",
              "0  Crime, Drama     9.4  When a tribal man is arrested for a case of al...   \n",
              "1         Drama     9.3  Two imprisoned men bond over a number of years...   \n",
              "2  Crime, Drama     9.2  The Godfather follows Vito Corleone, Don of th...   \n",
              "\n",
              "              DIRECTOR         ACTOR 1         ACTOR 2     ACTOR 3  \\\n",
              "0         T.J. Gnanavel         Suriya   Lijo Mol Jose  Manikandan   \n",
              "1        Frank Darabont    Tim Robbins  Morgan Freeman  Bob Gunton   \n",
              "2  Francis Ford Coppola  Marlon Brando       Al Pacino  James Caan   \n",
              "\n",
              "           ACTOR 4    votes  metascore GROSS COLLECTION  \n",
              "0  Rajisha Vijayan   163431        NaN              NaN  \n",
              "1   William Sadler  2515762       80.0          $28.34M  \n",
              "2     Diane Keaton  1732749      100.0         $134.97M  "
            ],
            "text/html": [
              "\n",
              "  <div id=\"df-0290b9dd-4f8d-4ade-98aa-32c202ea209f\">\n",
              "    <div class=\"colab-df-container\">\n",
              "      <div>\n",
              "<style scoped>\n",
              "    .dataframe tbody tr th:only-of-type {\n",
              "        vertical-align: middle;\n",
              "    }\n",
              "\n",
              "    .dataframe tbody tr th {\n",
              "        vertical-align: top;\n",
              "    }\n",
              "\n",
              "    .dataframe thead th {\n",
              "        text-align: right;\n",
              "    }\n",
              "</style>\n",
              "<table border=\"1\" class=\"dataframe\">\n",
              "  <thead>\n",
              "    <tr style=\"text-align: right;\">\n",
              "      <th></th>\n",
              "      <th>ranking of movie</th>\n",
              "      <th>movie name</th>\n",
              "      <th>Year</th>\n",
              "      <th>certificate</th>\n",
              "      <th>runtime</th>\n",
              "      <th>genre</th>\n",
              "      <th>RATING</th>\n",
              "      <th>DETAIL ABOUT MOVIE</th>\n",
              "      <th>DIRECTOR</th>\n",
              "      <th>ACTOR 1</th>\n",
              "      <th>ACTOR 2</th>\n",
              "      <th>ACTOR 3</th>\n",
              "      <th>ACTOR 4</th>\n",
              "      <th>votes</th>\n",
              "      <th>metascore</th>\n",
              "      <th>GROSS COLLECTION</th>\n",
              "    </tr>\n",
              "  </thead>\n",
              "  <tbody>\n",
              "    <tr>\n",
              "      <th>0</th>\n",
              "      <td>1</td>\n",
              "      <td>Jai Bhim</td>\n",
              "      <td>-2021</td>\n",
              "      <td>TV-MA</td>\n",
              "      <td>164 min</td>\n",
              "      <td>Crime, Drama</td>\n",
              "      <td>9.4</td>\n",
              "      <td>When a tribal man is arrested for a case of al...</td>\n",
              "      <td>T.J. Gnanavel</td>\n",
              "      <td>Suriya</td>\n",
              "      <td>Lijo Mol Jose</td>\n",
              "      <td>Manikandan</td>\n",
              "      <td>Rajisha Vijayan</td>\n",
              "      <td>163431</td>\n",
              "      <td>NaN</td>\n",
              "      <td>NaN</td>\n",
              "    </tr>\n",
              "    <tr>\n",
              "      <th>1</th>\n",
              "      <td>2</td>\n",
              "      <td>The Shawshank Redemption</td>\n",
              "      <td>-1994</td>\n",
              "      <td>R</td>\n",
              "      <td>142 min</td>\n",
              "      <td>Drama</td>\n",
              "      <td>9.3</td>\n",
              "      <td>Two imprisoned men bond over a number of years...</td>\n",
              "      <td>Frank Darabont</td>\n",
              "      <td>Tim Robbins</td>\n",
              "      <td>Morgan Freeman</td>\n",
              "      <td>Bob Gunton</td>\n",
              "      <td>William Sadler</td>\n",
              "      <td>2515762</td>\n",
              "      <td>80.0</td>\n",
              "      <td>$28.34M</td>\n",
              "    </tr>\n",
              "    <tr>\n",
              "      <th>2</th>\n",
              "      <td>3</td>\n",
              "      <td>The Godfather</td>\n",
              "      <td>-1972</td>\n",
              "      <td>R</td>\n",
              "      <td>175 min</td>\n",
              "      <td>Crime, Drama</td>\n",
              "      <td>9.2</td>\n",
              "      <td>The Godfather follows Vito Corleone, Don of th...</td>\n",
              "      <td>Francis Ford Coppola</td>\n",
              "      <td>Marlon Brando</td>\n",
              "      <td>Al Pacino</td>\n",
              "      <td>James Caan</td>\n",
              "      <td>Diane Keaton</td>\n",
              "      <td>1732749</td>\n",
              "      <td>100.0</td>\n",
              "      <td>$134.97M</td>\n",
              "    </tr>\n",
              "  </tbody>\n",
              "</table>\n",
              "</div>\n",
              "      <button class=\"colab-df-convert\" onclick=\"convertToInteractive('df-0290b9dd-4f8d-4ade-98aa-32c202ea209f')\"\n",
              "              title=\"Convert this dataframe to an interactive table.\"\n",
              "              style=\"display:none;\">\n",
              "        \n",
              "  <svg xmlns=\"http://www.w3.org/2000/svg\" height=\"24px\"viewBox=\"0 0 24 24\"\n",
              "       width=\"24px\">\n",
              "    <path d=\"M0 0h24v24H0V0z\" fill=\"none\"/>\n",
              "    <path d=\"M18.56 5.44l.94 2.06.94-2.06 2.06-.94-2.06-.94-.94-2.06-.94 2.06-2.06.94zm-11 1L8.5 8.5l.94-2.06 2.06-.94-2.06-.94L8.5 2.5l-.94 2.06-2.06.94zm10 10l.94 2.06.94-2.06 2.06-.94-2.06-.94-.94-2.06-.94 2.06-2.06.94z\"/><path d=\"M17.41 7.96l-1.37-1.37c-.4-.4-.92-.59-1.43-.59-.52 0-1.04.2-1.43.59L10.3 9.45l-7.72 7.72c-.78.78-.78 2.05 0 2.83L4 21.41c.39.39.9.59 1.41.59.51 0 1.02-.2 1.41-.59l7.78-7.78 2.81-2.81c.8-.78.8-2.07 0-2.86zM5.41 20L4 18.59l7.72-7.72 1.47 1.35L5.41 20z\"/>\n",
              "  </svg>\n",
              "      </button>\n",
              "      \n",
              "  <style>\n",
              "    .colab-df-container {\n",
              "      display:flex;\n",
              "      flex-wrap:wrap;\n",
              "      gap: 12px;\n",
              "    }\n",
              "\n",
              "    .colab-df-convert {\n",
              "      background-color: #E8F0FE;\n",
              "      border: none;\n",
              "      border-radius: 50%;\n",
              "      cursor: pointer;\n",
              "      display: none;\n",
              "      fill: #1967D2;\n",
              "      height: 32px;\n",
              "      padding: 0 0 0 0;\n",
              "      width: 32px;\n",
              "    }\n",
              "\n",
              "    .colab-df-convert:hover {\n",
              "      background-color: #E2EBFA;\n",
              "      box-shadow: 0px 1px 2px rgba(60, 64, 67, 0.3), 0px 1px 3px 1px rgba(60, 64, 67, 0.15);\n",
              "      fill: #174EA6;\n",
              "    }\n",
              "\n",
              "    [theme=dark] .colab-df-convert {\n",
              "      background-color: #3B4455;\n",
              "      fill: #D2E3FC;\n",
              "    }\n",
              "\n",
              "    [theme=dark] .colab-df-convert:hover {\n",
              "      background-color: #434B5C;\n",
              "      box-shadow: 0px 1px 3px 1px rgba(0, 0, 0, 0.15);\n",
              "      filter: drop-shadow(0px 1px 2px rgba(0, 0, 0, 0.3));\n",
              "      fill: #FFFFFF;\n",
              "    }\n",
              "  </style>\n",
              "\n",
              "      <script>\n",
              "        const buttonEl =\n",
              "          document.querySelector('#df-0290b9dd-4f8d-4ade-98aa-32c202ea209f button.colab-df-convert');\n",
              "        buttonEl.style.display =\n",
              "          google.colab.kernel.accessAllowed ? 'block' : 'none';\n",
              "\n",
              "        async function convertToInteractive(key) {\n",
              "          const element = document.querySelector('#df-0290b9dd-4f8d-4ade-98aa-32c202ea209f');\n",
              "          const dataTable =\n",
              "            await google.colab.kernel.invokeFunction('convertToInteractive',\n",
              "                                                     [key], {});\n",
              "          if (!dataTable) return;\n",
              "\n",
              "          const docLinkHtml = 'Like what you see? Visit the ' +\n",
              "            '<a target=\"_blank\" href=https://colab.research.google.com/notebooks/data_table.ipynb>data table notebook</a>'\n",
              "            + ' to learn more about interactive tables.';\n",
              "          element.innerHTML = '';\n",
              "          dataTable['output_type'] = 'display_data';\n",
              "          await google.colab.output.renderOutput(dataTable, element);\n",
              "          const docLink = document.createElement('div');\n",
              "          docLink.innerHTML = docLinkHtml;\n",
              "          element.appendChild(docLink);\n",
              "        }\n",
              "      </script>\n",
              "    </div>\n",
              "  </div>\n",
              "  "
            ]
          },
          "metadata": {},
          "execution_count": 2
        }
      ]
    },
    {
      "cell_type": "code",
      "source": [
        "#Dataset de videojuegos\n",
        "df02 = pd.read_csv('/content/imdb(VIDEO GAMES).csv')\n",
        "df02.name = 'Videojuegos'\n",
        "df02.head(3)"
      ],
      "metadata": {
        "colab": {
          "base_uri": "https://localhost:8080/",
          "height": 361
        },
        "id": "9cEy9sT_wQ-2",
        "outputId": "0e38465c-5798-4a48-bb11-6fb46cdfb0e0"
      },
      "execution_count": 3,
      "outputs": [
        {
          "output_type": "execute_result",
          "data": {
            "text/plain": [
              "   RANKING                            VIDEO GAME NAME                Year  \\\n",
              "0         1  The Witcher 3: Wild Hunt - Blood and Wine  (2016 Video Game)   \n",
              "1         2                     Red Dead Redemption II  (2018 Video Game)   \n",
              "2         3                   The Witcher 3: Wild Hunt  (2015 Video Game)   \n",
              "\n",
              "                      genre  Rating  \\\n",
              "0  Action, Adventure, Drama     9.8   \n",
              "1  Action, Adventure, Crime     9.7   \n",
              "2  Action, Adventure, Drama     9.7   \n",
              "\n",
              "                                             DETAILS             DIRECTOR   \\\n",
              "0  Geralt is in the southern province of Toussain...  Konrad Tomaszkiewicz   \n",
              "1  Amidst the decline of the Wild West at the tur...  Benjamin Byron Davis   \n",
              "2  A monster hunter for hire embarks on an epic j...  Konrad Tomaszkiewicz   \n",
              "\n",
              "       ACTOR-1        ACTOR-2               ACTOR-3          ACTOR-4  VOTES   \\\n",
              "0  Doug Cockle  MyAnna Buring       Antonia Bernath       Mark Noble    6942   \n",
              "1  Roger Clark   Rob Wiethoff  Cali Elizabeth Moore              NaN   29498   \n",
              "2  Doug Cockle   Denise Gough              Jo Wyatt  Jaimi Barbakoff   23644   \n",
              "\n",
              "  certificate  \n",
              "0         NaN  \n",
              "1           M  \n",
              "2           M  "
            ],
            "text/html": [
              "\n",
              "  <div id=\"df-ca9b003d-10d9-4a57-a20d-789073b61ad5\">\n",
              "    <div class=\"colab-df-container\">\n",
              "      <div>\n",
              "<style scoped>\n",
              "    .dataframe tbody tr th:only-of-type {\n",
              "        vertical-align: middle;\n",
              "    }\n",
              "\n",
              "    .dataframe tbody tr th {\n",
              "        vertical-align: top;\n",
              "    }\n",
              "\n",
              "    .dataframe thead th {\n",
              "        text-align: right;\n",
              "    }\n",
              "</style>\n",
              "<table border=\"1\" class=\"dataframe\">\n",
              "  <thead>\n",
              "    <tr style=\"text-align: right;\">\n",
              "      <th></th>\n",
              "      <th>RANKING</th>\n",
              "      <th>VIDEO GAME NAME</th>\n",
              "      <th>Year</th>\n",
              "      <th>genre</th>\n",
              "      <th>Rating</th>\n",
              "      <th>DETAILS</th>\n",
              "      <th>DIRECTOR</th>\n",
              "      <th>ACTOR-1</th>\n",
              "      <th>ACTOR-2</th>\n",
              "      <th>ACTOR-3</th>\n",
              "      <th>ACTOR-4</th>\n",
              "      <th>VOTES</th>\n",
              "      <th>certificate</th>\n",
              "    </tr>\n",
              "  </thead>\n",
              "  <tbody>\n",
              "    <tr>\n",
              "      <th>0</th>\n",
              "      <td>1</td>\n",
              "      <td>The Witcher 3: Wild Hunt - Blood and Wine</td>\n",
              "      <td>(2016 Video Game)</td>\n",
              "      <td>Action, Adventure, Drama</td>\n",
              "      <td>9.8</td>\n",
              "      <td>Geralt is in the southern province of Toussain...</td>\n",
              "      <td>Konrad Tomaszkiewicz</td>\n",
              "      <td>Doug Cockle</td>\n",
              "      <td>MyAnna Buring</td>\n",
              "      <td>Antonia Bernath</td>\n",
              "      <td>Mark Noble</td>\n",
              "      <td>6942</td>\n",
              "      <td>NaN</td>\n",
              "    </tr>\n",
              "    <tr>\n",
              "      <th>1</th>\n",
              "      <td>2</td>\n",
              "      <td>Red Dead Redemption II</td>\n",
              "      <td>(2018 Video Game)</td>\n",
              "      <td>Action, Adventure, Crime</td>\n",
              "      <td>9.7</td>\n",
              "      <td>Amidst the decline of the Wild West at the tur...</td>\n",
              "      <td>Benjamin Byron Davis</td>\n",
              "      <td>Roger Clark</td>\n",
              "      <td>Rob Wiethoff</td>\n",
              "      <td>Cali Elizabeth Moore</td>\n",
              "      <td>NaN</td>\n",
              "      <td>29498</td>\n",
              "      <td>M</td>\n",
              "    </tr>\n",
              "    <tr>\n",
              "      <th>2</th>\n",
              "      <td>3</td>\n",
              "      <td>The Witcher 3: Wild Hunt</td>\n",
              "      <td>(2015 Video Game)</td>\n",
              "      <td>Action, Adventure, Drama</td>\n",
              "      <td>9.7</td>\n",
              "      <td>A monster hunter for hire embarks on an epic j...</td>\n",
              "      <td>Konrad Tomaszkiewicz</td>\n",
              "      <td>Doug Cockle</td>\n",
              "      <td>Denise Gough</td>\n",
              "      <td>Jo Wyatt</td>\n",
              "      <td>Jaimi Barbakoff</td>\n",
              "      <td>23644</td>\n",
              "      <td>M</td>\n",
              "    </tr>\n",
              "  </tbody>\n",
              "</table>\n",
              "</div>\n",
              "      <button class=\"colab-df-convert\" onclick=\"convertToInteractive('df-ca9b003d-10d9-4a57-a20d-789073b61ad5')\"\n",
              "              title=\"Convert this dataframe to an interactive table.\"\n",
              "              style=\"display:none;\">\n",
              "        \n",
              "  <svg xmlns=\"http://www.w3.org/2000/svg\" height=\"24px\"viewBox=\"0 0 24 24\"\n",
              "       width=\"24px\">\n",
              "    <path d=\"M0 0h24v24H0V0z\" fill=\"none\"/>\n",
              "    <path d=\"M18.56 5.44l.94 2.06.94-2.06 2.06-.94-2.06-.94-.94-2.06-.94 2.06-2.06.94zm-11 1L8.5 8.5l.94-2.06 2.06-.94-2.06-.94L8.5 2.5l-.94 2.06-2.06.94zm10 10l.94 2.06.94-2.06 2.06-.94-2.06-.94-.94-2.06-.94 2.06-2.06.94z\"/><path d=\"M17.41 7.96l-1.37-1.37c-.4-.4-.92-.59-1.43-.59-.52 0-1.04.2-1.43.59L10.3 9.45l-7.72 7.72c-.78.78-.78 2.05 0 2.83L4 21.41c.39.39.9.59 1.41.59.51 0 1.02-.2 1.41-.59l7.78-7.78 2.81-2.81c.8-.78.8-2.07 0-2.86zM5.41 20L4 18.59l7.72-7.72 1.47 1.35L5.41 20z\"/>\n",
              "  </svg>\n",
              "      </button>\n",
              "      \n",
              "  <style>\n",
              "    .colab-df-container {\n",
              "      display:flex;\n",
              "      flex-wrap:wrap;\n",
              "      gap: 12px;\n",
              "    }\n",
              "\n",
              "    .colab-df-convert {\n",
              "      background-color: #E8F0FE;\n",
              "      border: none;\n",
              "      border-radius: 50%;\n",
              "      cursor: pointer;\n",
              "      display: none;\n",
              "      fill: #1967D2;\n",
              "      height: 32px;\n",
              "      padding: 0 0 0 0;\n",
              "      width: 32px;\n",
              "    }\n",
              "\n",
              "    .colab-df-convert:hover {\n",
              "      background-color: #E2EBFA;\n",
              "      box-shadow: 0px 1px 2px rgba(60, 64, 67, 0.3), 0px 1px 3px 1px rgba(60, 64, 67, 0.15);\n",
              "      fill: #174EA6;\n",
              "    }\n",
              "\n",
              "    [theme=dark] .colab-df-convert {\n",
              "      background-color: #3B4455;\n",
              "      fill: #D2E3FC;\n",
              "    }\n",
              "\n",
              "    [theme=dark] .colab-df-convert:hover {\n",
              "      background-color: #434B5C;\n",
              "      box-shadow: 0px 1px 3px 1px rgba(0, 0, 0, 0.15);\n",
              "      filter: drop-shadow(0px 1px 2px rgba(0, 0, 0, 0.3));\n",
              "      fill: #FFFFFF;\n",
              "    }\n",
              "  </style>\n",
              "\n",
              "      <script>\n",
              "        const buttonEl =\n",
              "          document.querySelector('#df-ca9b003d-10d9-4a57-a20d-789073b61ad5 button.colab-df-convert');\n",
              "        buttonEl.style.display =\n",
              "          google.colab.kernel.accessAllowed ? 'block' : 'none';\n",
              "\n",
              "        async function convertToInteractive(key) {\n",
              "          const element = document.querySelector('#df-ca9b003d-10d9-4a57-a20d-789073b61ad5');\n",
              "          const dataTable =\n",
              "            await google.colab.kernel.invokeFunction('convertToInteractive',\n",
              "                                                     [key], {});\n",
              "          if (!dataTable) return;\n",
              "\n",
              "          const docLinkHtml = 'Like what you see? Visit the ' +\n",
              "            '<a target=\"_blank\" href=https://colab.research.google.com/notebooks/data_table.ipynb>data table notebook</a>'\n",
              "            + ' to learn more about interactive tables.';\n",
              "          element.innerHTML = '';\n",
              "          dataTable['output_type'] = 'display_data';\n",
              "          await google.colab.output.renderOutput(dataTable, element);\n",
              "          const docLink = document.createElement('div');\n",
              "          docLink.innerHTML = docLinkHtml;\n",
              "          element.appendChild(docLink);\n",
              "        }\n",
              "      </script>\n",
              "    </div>\n",
              "  </div>\n",
              "  "
            ]
          },
          "metadata": {},
          "execution_count": 3
        }
      ]
    },
    {
      "cell_type": "code",
      "source": [
        "#Dataset de series\n",
        "df03 = pd.read_csv('/content/imdb(SERIES).csv')\n",
        "df03.name = 'Series'\n",
        "df03.head(3)"
      ],
      "metadata": {
        "colab": {
          "base_uri": "https://localhost:8080/",
          "height": 309
        },
        "id": "OuW7gDVTwl0_",
        "outputId": "c8dbff4c-adee-4b0c-e3e8-db9fe4822236"
      },
      "execution_count": 4,
      "outputs": [
        {
          "output_type": "execute_result",
          "data": {
            "text/plain": [
              "   ranking       series name         Year certificate  runtime  \\\n",
              "0         1     Breaking Bad  (2008–2013)       TV-MA   49 min   \n",
              "1         2  Game of Thrones  (2011–2019)       TV-MA   57 min   \n",
              "2         3        Chernobyl        -2019       TV-MA  330 min   \n",
              "\n",
              "                      genre  rating  \\\n",
              "0    Crime, Drama, Thriller     9.4   \n",
              "1  Action, Adventure, Drama     9.2   \n",
              "2  Drama, History, Thriller     9.4   \n",
              "\n",
              "                                             DETAILS         ACTOR 1  \\\n",
              "0  A high school chemistry teacher diagnosed with...  Bryan Cranston   \n",
              "1  Nine noble families fight for control over the...   Emilia Clarke   \n",
              "2  In April 1986, an explosion at the Chernobyl n...  Jessie Buckley   \n",
              "\n",
              "          ACTOR 2            ACTOR 3        ACTOR 4      VOTES  \n",
              "0      Aaron Paul          Anna Gunn   Betsy Brandt  16,28,943  \n",
              "1  Peter Dinklage      Kit Harington    Lena Headey  19,22,377  \n",
              "2    Jared Harris  Stellan Skarsgård  Adam Nagaitis   6,37,741  "
            ],
            "text/html": [
              "\n",
              "  <div id=\"df-d7c5f840-0468-4772-84dd-590e8e81888e\">\n",
              "    <div class=\"colab-df-container\">\n",
              "      <div>\n",
              "<style scoped>\n",
              "    .dataframe tbody tr th:only-of-type {\n",
              "        vertical-align: middle;\n",
              "    }\n",
              "\n",
              "    .dataframe tbody tr th {\n",
              "        vertical-align: top;\n",
              "    }\n",
              "\n",
              "    .dataframe thead th {\n",
              "        text-align: right;\n",
              "    }\n",
              "</style>\n",
              "<table border=\"1\" class=\"dataframe\">\n",
              "  <thead>\n",
              "    <tr style=\"text-align: right;\">\n",
              "      <th></th>\n",
              "      <th>ranking</th>\n",
              "      <th>series name</th>\n",
              "      <th>Year</th>\n",
              "      <th>certificate</th>\n",
              "      <th>runtime</th>\n",
              "      <th>genre</th>\n",
              "      <th>rating</th>\n",
              "      <th>DETAILS</th>\n",
              "      <th>ACTOR 1</th>\n",
              "      <th>ACTOR 2</th>\n",
              "      <th>ACTOR 3</th>\n",
              "      <th>ACTOR 4</th>\n",
              "      <th>VOTES</th>\n",
              "    </tr>\n",
              "  </thead>\n",
              "  <tbody>\n",
              "    <tr>\n",
              "      <th>0</th>\n",
              "      <td>1</td>\n",
              "      <td>Breaking Bad</td>\n",
              "      <td>(2008–2013)</td>\n",
              "      <td>TV-MA</td>\n",
              "      <td>49 min</td>\n",
              "      <td>Crime, Drama, Thriller</td>\n",
              "      <td>9.4</td>\n",
              "      <td>A high school chemistry teacher diagnosed with...</td>\n",
              "      <td>Bryan Cranston</td>\n",
              "      <td>Aaron Paul</td>\n",
              "      <td>Anna Gunn</td>\n",
              "      <td>Betsy Brandt</td>\n",
              "      <td>16,28,943</td>\n",
              "    </tr>\n",
              "    <tr>\n",
              "      <th>1</th>\n",
              "      <td>2</td>\n",
              "      <td>Game of Thrones</td>\n",
              "      <td>(2011–2019)</td>\n",
              "      <td>TV-MA</td>\n",
              "      <td>57 min</td>\n",
              "      <td>Action, Adventure, Drama</td>\n",
              "      <td>9.2</td>\n",
              "      <td>Nine noble families fight for control over the...</td>\n",
              "      <td>Emilia Clarke</td>\n",
              "      <td>Peter Dinklage</td>\n",
              "      <td>Kit Harington</td>\n",
              "      <td>Lena Headey</td>\n",
              "      <td>19,22,377</td>\n",
              "    </tr>\n",
              "    <tr>\n",
              "      <th>2</th>\n",
              "      <td>3</td>\n",
              "      <td>Chernobyl</td>\n",
              "      <td>-2019</td>\n",
              "      <td>TV-MA</td>\n",
              "      <td>330 min</td>\n",
              "      <td>Drama, History, Thriller</td>\n",
              "      <td>9.4</td>\n",
              "      <td>In April 1986, an explosion at the Chernobyl n...</td>\n",
              "      <td>Jessie Buckley</td>\n",
              "      <td>Jared Harris</td>\n",
              "      <td>Stellan Skarsgård</td>\n",
              "      <td>Adam Nagaitis</td>\n",
              "      <td>6,37,741</td>\n",
              "    </tr>\n",
              "  </tbody>\n",
              "</table>\n",
              "</div>\n",
              "      <button class=\"colab-df-convert\" onclick=\"convertToInteractive('df-d7c5f840-0468-4772-84dd-590e8e81888e')\"\n",
              "              title=\"Convert this dataframe to an interactive table.\"\n",
              "              style=\"display:none;\">\n",
              "        \n",
              "  <svg xmlns=\"http://www.w3.org/2000/svg\" height=\"24px\"viewBox=\"0 0 24 24\"\n",
              "       width=\"24px\">\n",
              "    <path d=\"M0 0h24v24H0V0z\" fill=\"none\"/>\n",
              "    <path d=\"M18.56 5.44l.94 2.06.94-2.06 2.06-.94-2.06-.94-.94-2.06-.94 2.06-2.06.94zm-11 1L8.5 8.5l.94-2.06 2.06-.94-2.06-.94L8.5 2.5l-.94 2.06-2.06.94zm10 10l.94 2.06.94-2.06 2.06-.94-2.06-.94-.94-2.06-.94 2.06-2.06.94z\"/><path d=\"M17.41 7.96l-1.37-1.37c-.4-.4-.92-.59-1.43-.59-.52 0-1.04.2-1.43.59L10.3 9.45l-7.72 7.72c-.78.78-.78 2.05 0 2.83L4 21.41c.39.39.9.59 1.41.59.51 0 1.02-.2 1.41-.59l7.78-7.78 2.81-2.81c.8-.78.8-2.07 0-2.86zM5.41 20L4 18.59l7.72-7.72 1.47 1.35L5.41 20z\"/>\n",
              "  </svg>\n",
              "      </button>\n",
              "      \n",
              "  <style>\n",
              "    .colab-df-container {\n",
              "      display:flex;\n",
              "      flex-wrap:wrap;\n",
              "      gap: 12px;\n",
              "    }\n",
              "\n",
              "    .colab-df-convert {\n",
              "      background-color: #E8F0FE;\n",
              "      border: none;\n",
              "      border-radius: 50%;\n",
              "      cursor: pointer;\n",
              "      display: none;\n",
              "      fill: #1967D2;\n",
              "      height: 32px;\n",
              "      padding: 0 0 0 0;\n",
              "      width: 32px;\n",
              "    }\n",
              "\n",
              "    .colab-df-convert:hover {\n",
              "      background-color: #E2EBFA;\n",
              "      box-shadow: 0px 1px 2px rgba(60, 64, 67, 0.3), 0px 1px 3px 1px rgba(60, 64, 67, 0.15);\n",
              "      fill: #174EA6;\n",
              "    }\n",
              "\n",
              "    [theme=dark] .colab-df-convert {\n",
              "      background-color: #3B4455;\n",
              "      fill: #D2E3FC;\n",
              "    }\n",
              "\n",
              "    [theme=dark] .colab-df-convert:hover {\n",
              "      background-color: #434B5C;\n",
              "      box-shadow: 0px 1px 3px 1px rgba(0, 0, 0, 0.15);\n",
              "      filter: drop-shadow(0px 1px 2px rgba(0, 0, 0, 0.3));\n",
              "      fill: #FFFFFF;\n",
              "    }\n",
              "  </style>\n",
              "\n",
              "      <script>\n",
              "        const buttonEl =\n",
              "          document.querySelector('#df-d7c5f840-0468-4772-84dd-590e8e81888e button.colab-df-convert');\n",
              "        buttonEl.style.display =\n",
              "          google.colab.kernel.accessAllowed ? 'block' : 'none';\n",
              "\n",
              "        async function convertToInteractive(key) {\n",
              "          const element = document.querySelector('#df-d7c5f840-0468-4772-84dd-590e8e81888e');\n",
              "          const dataTable =\n",
              "            await google.colab.kernel.invokeFunction('convertToInteractive',\n",
              "                                                     [key], {});\n",
              "          if (!dataTable) return;\n",
              "\n",
              "          const docLinkHtml = 'Like what you see? Visit the ' +\n",
              "            '<a target=\"_blank\" href=https://colab.research.google.com/notebooks/data_table.ipynb>data table notebook</a>'\n",
              "            + ' to learn more about interactive tables.';\n",
              "          element.innerHTML = '';\n",
              "          dataTable['output_type'] = 'display_data';\n",
              "          await google.colab.output.renderOutput(dataTable, element);\n",
              "          const docLink = document.createElement('div');\n",
              "          docLink.innerHTML = docLinkHtml;\n",
              "          element.appendChild(docLink);\n",
              "        }\n",
              "      </script>\n",
              "    </div>\n",
              "  </div>\n",
              "  "
            ]
          },
          "metadata": {},
          "execution_count": 4
        }
      ]
    },
    {
      "cell_type": "code",
      "source": [
        "print('El dataset de Películas tiene',df01.shape[0],'registros y',df01.shape[1],'columnas')\n",
        "print('El dataset de Videojuegos tiene',df02.shape[0],'registros y',df02.shape[1],'columnas')\n",
        "print('El dataset de Series tiene',df03.shape[0],'registros y',df03.shape[1],'columnas')"
      ],
      "metadata": {
        "colab": {
          "base_uri": "https://localhost:8080/"
        },
        "id": "uXiOjvNHx4Ij",
        "outputId": "25b79922-5820-4d54-82c1-b883f632a73d"
      },
      "execution_count": 5,
      "outputs": [
        {
          "output_type": "stream",
          "name": "stdout",
          "text": [
            "El dataset de Películas tiene 250 registros y 16 columnas\n",
            "El dataset de Videojuegos tiene 250 registros y 13 columnas\n",
            "El dataset de Series tiene 250 registros y 13 columnas\n"
          ]
        }
      ]
    },
    {
      "cell_type": "markdown",
      "source": [
        "## **Limpieza de datos**\n",
        "\n"
      ],
      "metadata": {
        "id": "G9IrLWJD1esQ"
      }
    },
    {
      "cell_type": "markdown",
      "source": [
        "### ***Operacion 01***"
      ],
      "metadata": {
        "id": "cTITZ1wGwXtr"
      }
    },
    {
      "cell_type": "markdown",
      "source": [
        "*Antes de realizar cualquier operación, se realizará un cambio de nombre de las columnas. En la `Operación 1`, se tendran listas de los nombres que se cambiarán a las columnas. En la función creada se tomará como parámetros el dataset y una lista correspondiente, utilizando la función de rename para cambiar el nombre a las columnas a través de un bucle.*"
      ],
      "metadata": {
        "id": "X_RplyRn6T5Y"
      }
    },
    {
      "cell_type": "code",
      "source": [
        "#Operacion 01\n",
        "lista01 = [ 'Ranking', 'Nombre_pelicula', 'Año', 'Calificacion','Duracion',  'Genero', \n",
        "       'Puntuacion','Detalle','Director', 'Actor01',  'Actor02',  'Actor03', 'Actor04',  'Votos', 'Metascore', \n",
        "       'Recaudacion']\n",
        "lista02 = ['Ranking', 'Nombre_VJ', 'Año', 'Genero', 'Puntuacion', 'Detalle', 'Director', 'Actor01',\n",
        "           'Actor02', 'Actor03', 'Actor04', 'Votos', 'Certificado']\n",
        "lista03 = ['Ranking', 'Nombre_serie', 'Año', 'Calificacion','Duracion',  'Genero', \n",
        "       'Puntuacion','Detalle', 'Actor01',  'Actor02',  'Actor03', 'Actor04',  'Votos']\n",
        "\n",
        "def Operacion01(df,lista):\n",
        "  for i in range (df.shape[1]):\n",
        "    df.rename(columns={df.columns[i]:lista[i]}, inplace=True)"
      ],
      "metadata": {
        "id": "Bqp9lRjg6di9"
      },
      "execution_count": 6,
      "outputs": []
    },
    {
      "cell_type": "code",
      "source": [
        "Operacion01(df01, lista01)\n",
        "Operacion01(df02, lista02)\n",
        "Operacion01(df03, lista03)"
      ],
      "metadata": {
        "id": "K0i9-vfyCkvH"
      },
      "execution_count": 7,
      "outputs": []
    },
    {
      "cell_type": "markdown",
      "source": [
        "### ***Operacion 02***"
      ],
      "metadata": {
        "id": "NdNBt3bmwhyF"
      }
    },
    {
      "cell_type": "markdown",
      "source": [
        "*Antes de realizar un análisis de los 3 datasets, se debe realizar una limpieza de los datos. Primero se revisará si los dataframes presentan valores nulos con la `Operación 02`. Esta operación primero buscará el nombre de las columnas que contengan valores nulos con la función `isnull` aplicado a columns del dataframe; después, se obtendrá el número total de valores nulos dentro del dataset con la función `isnull` y `sum`*"
      ],
      "metadata": {
        "id": "_LNvisiG1sLp"
      }
    },
    {
      "cell_type": "code",
      "source": [
        "def Operacion02(df):\n",
        "  col_nulos = df.columns[df.isnull().any()]\n",
        "  num_nulos = df.isnull().sum().sum()\n",
        "  print('El dataframe',df.name,'presenta',num_nulos,'valores nulos en las columnas',col_nulos)"
      ],
      "metadata": {
        "id": "QPF2blmJZ4bB"
      },
      "execution_count": 8,
      "outputs": []
    },
    {
      "cell_type": "code",
      "source": [
        "Operacion02(df01)\n",
        "Operacion02(df02)\n",
        "Operacion02(df03)"
      ],
      "metadata": {
        "colab": {
          "base_uri": "https://localhost:8080/"
        },
        "id": "KMsshNr1dA4r",
        "outputId": "f376ee63-c935-4ff1-deea-d3f7f96d35d6"
      },
      "execution_count": 9,
      "outputs": [
        {
          "output_type": "stream",
          "name": "stdout",
          "text": [
            "El dataframe Peliculas presenta 68 valores nulos en las columnas Index(['Metascore', 'Recaudacion'], dtype='object')\n",
            "El dataframe Videojuegos presenta 192 valores nulos en las columnas Index(['Genero', 'Puntuacion', 'Director', 'Actor01', 'Actor02', 'Actor03',\n",
            "       'Actor04', 'Certificado'],\n",
            "      dtype='object')\n",
            "El dataframe Series presenta 2 valores nulos en las columnas Index(['Duracion'], dtype='object')\n"
          ]
        }
      ]
    },
    {
      "cell_type": "markdown",
      "source": [
        "*Existen valores nulos en las variables de todos los datasets. Para no afectar los datos, se eliminarán las filas que contengan valores nulos*"
      ],
      "metadata": {
        "id": "680DE-hD3twH"
      }
    },
    {
      "cell_type": "code",
      "source": [
        "df01.dropna(inplace = True)\n",
        "df02.dropna(inplace = True)\n",
        "df03.dropna(inplace = True)"
      ],
      "metadata": {
        "id": "DEJlnsFF3q1Y"
      },
      "execution_count": 10,
      "outputs": []
    },
    {
      "cell_type": "code",
      "source": [
        "#Eliminando columnas inncesarias\n",
        "df01.drop(['Ranking', 'Detalle'], axis='columns', inplace =True)\n",
        "df02.drop(['Ranking', 'Detalle'], axis='columns', inplace =True)\n",
        "df03.drop(['Ranking', 'Detalle'], axis='columns', inplace =True)"
      ],
      "metadata": {
        "id": "ROYUPCQoLD9L"
      },
      "execution_count": 11,
      "outputs": []
    },
    {
      "cell_type": "code",
      "source": [
        "df01.head(3)"
      ],
      "metadata": {
        "colab": {
          "base_uri": "https://localhost:8080/",
          "height": 294
        },
        "id": "iEkBKD0_00ab",
        "outputId": "b486dbbc-71df-4428-e1fa-e06a958275ff"
      },
      "execution_count": 12,
      "outputs": [
        {
          "output_type": "execute_result",
          "data": {
            "text/plain": [
              "            Nombre_pelicula    Año Calificacion Duracion  \\\n",
              "1  The Shawshank Redemption  -1994            R  142 min   \n",
              "2             The Godfather  -1972            R  175 min   \n",
              "3           The Dark Knight  -2008        PG-13  152 min   \n",
              "\n",
              "                 Genero  Puntuacion              Director         Actor01  \\\n",
              "1                 Drama         9.3        Frank Darabont     Tim Robbins   \n",
              "2          Crime, Drama         9.2  Francis Ford Coppola   Marlon Brando   \n",
              "3  Action, Crime, Drama         9.0     Christopher Nolan  Christian Bale   \n",
              "\n",
              "          Actor02        Actor03         Actor04    Votos  Metascore  \\\n",
              "1  Morgan Freeman     Bob Gunton  William Sadler  2515762       80.0   \n",
              "2       Al Pacino     James Caan    Diane Keaton  1732749      100.0   \n",
              "3    Heath Ledger  Aaron Eckhart   Michael Caine  2466041       84.0   \n",
              "\n",
              "  Recaudacion  \n",
              "1     $28.34M  \n",
              "2    $134.97M  \n",
              "3    $534.86M  "
            ],
            "text/html": [
              "\n",
              "  <div id=\"df-a43617ca-38ff-4526-8741-1046a3de4ff4\">\n",
              "    <div class=\"colab-df-container\">\n",
              "      <div>\n",
              "<style scoped>\n",
              "    .dataframe tbody tr th:only-of-type {\n",
              "        vertical-align: middle;\n",
              "    }\n",
              "\n",
              "    .dataframe tbody tr th {\n",
              "        vertical-align: top;\n",
              "    }\n",
              "\n",
              "    .dataframe thead th {\n",
              "        text-align: right;\n",
              "    }\n",
              "</style>\n",
              "<table border=\"1\" class=\"dataframe\">\n",
              "  <thead>\n",
              "    <tr style=\"text-align: right;\">\n",
              "      <th></th>\n",
              "      <th>Nombre_pelicula</th>\n",
              "      <th>Año</th>\n",
              "      <th>Calificacion</th>\n",
              "      <th>Duracion</th>\n",
              "      <th>Genero</th>\n",
              "      <th>Puntuacion</th>\n",
              "      <th>Director</th>\n",
              "      <th>Actor01</th>\n",
              "      <th>Actor02</th>\n",
              "      <th>Actor03</th>\n",
              "      <th>Actor04</th>\n",
              "      <th>Votos</th>\n",
              "      <th>Metascore</th>\n",
              "      <th>Recaudacion</th>\n",
              "    </tr>\n",
              "  </thead>\n",
              "  <tbody>\n",
              "    <tr>\n",
              "      <th>1</th>\n",
              "      <td>The Shawshank Redemption</td>\n",
              "      <td>-1994</td>\n",
              "      <td>R</td>\n",
              "      <td>142 min</td>\n",
              "      <td>Drama</td>\n",
              "      <td>9.3</td>\n",
              "      <td>Frank Darabont</td>\n",
              "      <td>Tim Robbins</td>\n",
              "      <td>Morgan Freeman</td>\n",
              "      <td>Bob Gunton</td>\n",
              "      <td>William Sadler</td>\n",
              "      <td>2515762</td>\n",
              "      <td>80.0</td>\n",
              "      <td>$28.34M</td>\n",
              "    </tr>\n",
              "    <tr>\n",
              "      <th>2</th>\n",
              "      <td>The Godfather</td>\n",
              "      <td>-1972</td>\n",
              "      <td>R</td>\n",
              "      <td>175 min</td>\n",
              "      <td>Crime, Drama</td>\n",
              "      <td>9.2</td>\n",
              "      <td>Francis Ford Coppola</td>\n",
              "      <td>Marlon Brando</td>\n",
              "      <td>Al Pacino</td>\n",
              "      <td>James Caan</td>\n",
              "      <td>Diane Keaton</td>\n",
              "      <td>1732749</td>\n",
              "      <td>100.0</td>\n",
              "      <td>$134.97M</td>\n",
              "    </tr>\n",
              "    <tr>\n",
              "      <th>3</th>\n",
              "      <td>The Dark Knight</td>\n",
              "      <td>-2008</td>\n",
              "      <td>PG-13</td>\n",
              "      <td>152 min</td>\n",
              "      <td>Action, Crime, Drama</td>\n",
              "      <td>9.0</td>\n",
              "      <td>Christopher Nolan</td>\n",
              "      <td>Christian Bale</td>\n",
              "      <td>Heath Ledger</td>\n",
              "      <td>Aaron Eckhart</td>\n",
              "      <td>Michael Caine</td>\n",
              "      <td>2466041</td>\n",
              "      <td>84.0</td>\n",
              "      <td>$534.86M</td>\n",
              "    </tr>\n",
              "  </tbody>\n",
              "</table>\n",
              "</div>\n",
              "      <button class=\"colab-df-convert\" onclick=\"convertToInteractive('df-a43617ca-38ff-4526-8741-1046a3de4ff4')\"\n",
              "              title=\"Convert this dataframe to an interactive table.\"\n",
              "              style=\"display:none;\">\n",
              "        \n",
              "  <svg xmlns=\"http://www.w3.org/2000/svg\" height=\"24px\"viewBox=\"0 0 24 24\"\n",
              "       width=\"24px\">\n",
              "    <path d=\"M0 0h24v24H0V0z\" fill=\"none\"/>\n",
              "    <path d=\"M18.56 5.44l.94 2.06.94-2.06 2.06-.94-2.06-.94-.94-2.06-.94 2.06-2.06.94zm-11 1L8.5 8.5l.94-2.06 2.06-.94-2.06-.94L8.5 2.5l-.94 2.06-2.06.94zm10 10l.94 2.06.94-2.06 2.06-.94-2.06-.94-.94-2.06-.94 2.06-2.06.94z\"/><path d=\"M17.41 7.96l-1.37-1.37c-.4-.4-.92-.59-1.43-.59-.52 0-1.04.2-1.43.59L10.3 9.45l-7.72 7.72c-.78.78-.78 2.05 0 2.83L4 21.41c.39.39.9.59 1.41.59.51 0 1.02-.2 1.41-.59l7.78-7.78 2.81-2.81c.8-.78.8-2.07 0-2.86zM5.41 20L4 18.59l7.72-7.72 1.47 1.35L5.41 20z\"/>\n",
              "  </svg>\n",
              "      </button>\n",
              "      \n",
              "  <style>\n",
              "    .colab-df-container {\n",
              "      display:flex;\n",
              "      flex-wrap:wrap;\n",
              "      gap: 12px;\n",
              "    }\n",
              "\n",
              "    .colab-df-convert {\n",
              "      background-color: #E8F0FE;\n",
              "      border: none;\n",
              "      border-radius: 50%;\n",
              "      cursor: pointer;\n",
              "      display: none;\n",
              "      fill: #1967D2;\n",
              "      height: 32px;\n",
              "      padding: 0 0 0 0;\n",
              "      width: 32px;\n",
              "    }\n",
              "\n",
              "    .colab-df-convert:hover {\n",
              "      background-color: #E2EBFA;\n",
              "      box-shadow: 0px 1px 2px rgba(60, 64, 67, 0.3), 0px 1px 3px 1px rgba(60, 64, 67, 0.15);\n",
              "      fill: #174EA6;\n",
              "    }\n",
              "\n",
              "    [theme=dark] .colab-df-convert {\n",
              "      background-color: #3B4455;\n",
              "      fill: #D2E3FC;\n",
              "    }\n",
              "\n",
              "    [theme=dark] .colab-df-convert:hover {\n",
              "      background-color: #434B5C;\n",
              "      box-shadow: 0px 1px 3px 1px rgba(0, 0, 0, 0.15);\n",
              "      filter: drop-shadow(0px 1px 2px rgba(0, 0, 0, 0.3));\n",
              "      fill: #FFFFFF;\n",
              "    }\n",
              "  </style>\n",
              "\n",
              "      <script>\n",
              "        const buttonEl =\n",
              "          document.querySelector('#df-a43617ca-38ff-4526-8741-1046a3de4ff4 button.colab-df-convert');\n",
              "        buttonEl.style.display =\n",
              "          google.colab.kernel.accessAllowed ? 'block' : 'none';\n",
              "\n",
              "        async function convertToInteractive(key) {\n",
              "          const element = document.querySelector('#df-a43617ca-38ff-4526-8741-1046a3de4ff4');\n",
              "          const dataTable =\n",
              "            await google.colab.kernel.invokeFunction('convertToInteractive',\n",
              "                                                     [key], {});\n",
              "          if (!dataTable) return;\n",
              "\n",
              "          const docLinkHtml = 'Like what you see? Visit the ' +\n",
              "            '<a target=\"_blank\" href=https://colab.research.google.com/notebooks/data_table.ipynb>data table notebook</a>'\n",
              "            + ' to learn more about interactive tables.';\n",
              "          element.innerHTML = '';\n",
              "          dataTable['output_type'] = 'display_data';\n",
              "          await google.colab.output.renderOutput(dataTable, element);\n",
              "          const docLink = document.createElement('div');\n",
              "          docLink.innerHTML = docLinkHtml;\n",
              "          element.appendChild(docLink);\n",
              "        }\n",
              "      </script>\n",
              "    </div>\n",
              "  </div>\n",
              "  "
            ]
          },
          "metadata": {},
          "execution_count": 12
        }
      ]
    },
    {
      "cell_type": "markdown",
      "source": [
        "### ***Operacion 03***"
      ],
      "metadata": {
        "id": "i1_8k5r2wlK-"
      }
    },
    {
      "cell_type": "markdown",
      "source": [
        "*Los datasets tienen columnas que deben ser de tipo número; sin embargo, estas variables son de tipo texto y contienen algunos caracteres extras. Por ello se realizó la **Operación 02** para lidiar con este problema. Con `astype` primero nos aseguramos que la columna sea de tipo string para aplicar expresiones regulares. Con `.str.extractall('(\\d+)')` se extraeran solo los digitos de las columnas. `.unstack()` trae los números coincidentes a la misma fila que la cadena original. `.fillna('')` \n",
        "elimina los NaN que ciertas cadenas pueden tener. `.sum(axis=1)` reunirá todos los números en una sola celda,  realizando una suma, el argumento axis=1 sumará los valores de fila. Y finalmente, `.astype(int)` convierte el resultado en un número entero. Todo ello corresponde a la `Operación 03`*"
      ],
      "metadata": {
        "id": "UE-6-XBDLDni"
      }
    },
    {
      "cell_type": "code",
      "source": [
        "#OPERACION 03 \n",
        "df01['Año'] = df01['Año'].astype('str').str.extractall('(\\d+)').unstack().fillna('').sum(axis=1).astype('int')\n",
        "df01['Duracion'] = df01['Duracion'].astype('str').str.extractall('(\\d+)').unstack().fillna('').sum(axis=1).astype('int')\n",
        "df01['Recaudacion'] = df01['Recaudacion'].astype('str').str.extractall('(\\d+)').unstack().fillna('').sum(axis=1).astype('int')*10000"
      ],
      "metadata": {
        "id": "6PqrSQK5GeNN"
      },
      "execution_count": 13,
      "outputs": []
    },
    {
      "cell_type": "code",
      "source": [
        "df01.head(3)"
      ],
      "metadata": {
        "colab": {
          "base_uri": "https://localhost:8080/",
          "height": 294
        },
        "id": "R8MyZ54FKECr",
        "outputId": "35e6c806-af59-4275-8e0c-efce9fb2ae7f"
      },
      "execution_count": 14,
      "outputs": [
        {
          "output_type": "execute_result",
          "data": {
            "text/plain": [
              "            Nombre_pelicula   Año Calificacion  Duracion  \\\n",
              "1  The Shawshank Redemption  1994            R       142   \n",
              "2             The Godfather  1972            R       175   \n",
              "3           The Dark Knight  2008        PG-13       152   \n",
              "\n",
              "                 Genero  Puntuacion              Director         Actor01  \\\n",
              "1                 Drama         9.3        Frank Darabont     Tim Robbins   \n",
              "2          Crime, Drama         9.2  Francis Ford Coppola   Marlon Brando   \n",
              "3  Action, Crime, Drama         9.0     Christopher Nolan  Christian Bale   \n",
              "\n",
              "          Actor02        Actor03         Actor04    Votos  Metascore  \\\n",
              "1  Morgan Freeman     Bob Gunton  William Sadler  2515762       80.0   \n",
              "2       Al Pacino     James Caan    Diane Keaton  1732749      100.0   \n",
              "3    Heath Ledger  Aaron Eckhart   Michael Caine  2466041       84.0   \n",
              "\n",
              "   Recaudacion  \n",
              "1     28340000  \n",
              "2    134970000  \n",
              "3    534860000  "
            ],
            "text/html": [
              "\n",
              "  <div id=\"df-084925b8-1c0c-4a35-a0c4-a5a2303d15d9\">\n",
              "    <div class=\"colab-df-container\">\n",
              "      <div>\n",
              "<style scoped>\n",
              "    .dataframe tbody tr th:only-of-type {\n",
              "        vertical-align: middle;\n",
              "    }\n",
              "\n",
              "    .dataframe tbody tr th {\n",
              "        vertical-align: top;\n",
              "    }\n",
              "\n",
              "    .dataframe thead th {\n",
              "        text-align: right;\n",
              "    }\n",
              "</style>\n",
              "<table border=\"1\" class=\"dataframe\">\n",
              "  <thead>\n",
              "    <tr style=\"text-align: right;\">\n",
              "      <th></th>\n",
              "      <th>Nombre_pelicula</th>\n",
              "      <th>Año</th>\n",
              "      <th>Calificacion</th>\n",
              "      <th>Duracion</th>\n",
              "      <th>Genero</th>\n",
              "      <th>Puntuacion</th>\n",
              "      <th>Director</th>\n",
              "      <th>Actor01</th>\n",
              "      <th>Actor02</th>\n",
              "      <th>Actor03</th>\n",
              "      <th>Actor04</th>\n",
              "      <th>Votos</th>\n",
              "      <th>Metascore</th>\n",
              "      <th>Recaudacion</th>\n",
              "    </tr>\n",
              "  </thead>\n",
              "  <tbody>\n",
              "    <tr>\n",
              "      <th>1</th>\n",
              "      <td>The Shawshank Redemption</td>\n",
              "      <td>1994</td>\n",
              "      <td>R</td>\n",
              "      <td>142</td>\n",
              "      <td>Drama</td>\n",
              "      <td>9.3</td>\n",
              "      <td>Frank Darabont</td>\n",
              "      <td>Tim Robbins</td>\n",
              "      <td>Morgan Freeman</td>\n",
              "      <td>Bob Gunton</td>\n",
              "      <td>William Sadler</td>\n",
              "      <td>2515762</td>\n",
              "      <td>80.0</td>\n",
              "      <td>28340000</td>\n",
              "    </tr>\n",
              "    <tr>\n",
              "      <th>2</th>\n",
              "      <td>The Godfather</td>\n",
              "      <td>1972</td>\n",
              "      <td>R</td>\n",
              "      <td>175</td>\n",
              "      <td>Crime, Drama</td>\n",
              "      <td>9.2</td>\n",
              "      <td>Francis Ford Coppola</td>\n",
              "      <td>Marlon Brando</td>\n",
              "      <td>Al Pacino</td>\n",
              "      <td>James Caan</td>\n",
              "      <td>Diane Keaton</td>\n",
              "      <td>1732749</td>\n",
              "      <td>100.0</td>\n",
              "      <td>134970000</td>\n",
              "    </tr>\n",
              "    <tr>\n",
              "      <th>3</th>\n",
              "      <td>The Dark Knight</td>\n",
              "      <td>2008</td>\n",
              "      <td>PG-13</td>\n",
              "      <td>152</td>\n",
              "      <td>Action, Crime, Drama</td>\n",
              "      <td>9.0</td>\n",
              "      <td>Christopher Nolan</td>\n",
              "      <td>Christian Bale</td>\n",
              "      <td>Heath Ledger</td>\n",
              "      <td>Aaron Eckhart</td>\n",
              "      <td>Michael Caine</td>\n",
              "      <td>2466041</td>\n",
              "      <td>84.0</td>\n",
              "      <td>534860000</td>\n",
              "    </tr>\n",
              "  </tbody>\n",
              "</table>\n",
              "</div>\n",
              "      <button class=\"colab-df-convert\" onclick=\"convertToInteractive('df-084925b8-1c0c-4a35-a0c4-a5a2303d15d9')\"\n",
              "              title=\"Convert this dataframe to an interactive table.\"\n",
              "              style=\"display:none;\">\n",
              "        \n",
              "  <svg xmlns=\"http://www.w3.org/2000/svg\" height=\"24px\"viewBox=\"0 0 24 24\"\n",
              "       width=\"24px\">\n",
              "    <path d=\"M0 0h24v24H0V0z\" fill=\"none\"/>\n",
              "    <path d=\"M18.56 5.44l.94 2.06.94-2.06 2.06-.94-2.06-.94-.94-2.06-.94 2.06-2.06.94zm-11 1L8.5 8.5l.94-2.06 2.06-.94-2.06-.94L8.5 2.5l-.94 2.06-2.06.94zm10 10l.94 2.06.94-2.06 2.06-.94-2.06-.94-.94-2.06-.94 2.06-2.06.94z\"/><path d=\"M17.41 7.96l-1.37-1.37c-.4-.4-.92-.59-1.43-.59-.52 0-1.04.2-1.43.59L10.3 9.45l-7.72 7.72c-.78.78-.78 2.05 0 2.83L4 21.41c.39.39.9.59 1.41.59.51 0 1.02-.2 1.41-.59l7.78-7.78 2.81-2.81c.8-.78.8-2.07 0-2.86zM5.41 20L4 18.59l7.72-7.72 1.47 1.35L5.41 20z\"/>\n",
              "  </svg>\n",
              "      </button>\n",
              "      \n",
              "  <style>\n",
              "    .colab-df-container {\n",
              "      display:flex;\n",
              "      flex-wrap:wrap;\n",
              "      gap: 12px;\n",
              "    }\n",
              "\n",
              "    .colab-df-convert {\n",
              "      background-color: #E8F0FE;\n",
              "      border: none;\n",
              "      border-radius: 50%;\n",
              "      cursor: pointer;\n",
              "      display: none;\n",
              "      fill: #1967D2;\n",
              "      height: 32px;\n",
              "      padding: 0 0 0 0;\n",
              "      width: 32px;\n",
              "    }\n",
              "\n",
              "    .colab-df-convert:hover {\n",
              "      background-color: #E2EBFA;\n",
              "      box-shadow: 0px 1px 2px rgba(60, 64, 67, 0.3), 0px 1px 3px 1px rgba(60, 64, 67, 0.15);\n",
              "      fill: #174EA6;\n",
              "    }\n",
              "\n",
              "    [theme=dark] .colab-df-convert {\n",
              "      background-color: #3B4455;\n",
              "      fill: #D2E3FC;\n",
              "    }\n",
              "\n",
              "    [theme=dark] .colab-df-convert:hover {\n",
              "      background-color: #434B5C;\n",
              "      box-shadow: 0px 1px 3px 1px rgba(0, 0, 0, 0.15);\n",
              "      filter: drop-shadow(0px 1px 2px rgba(0, 0, 0, 0.3));\n",
              "      fill: #FFFFFF;\n",
              "    }\n",
              "  </style>\n",
              "\n",
              "      <script>\n",
              "        const buttonEl =\n",
              "          document.querySelector('#df-084925b8-1c0c-4a35-a0c4-a5a2303d15d9 button.colab-df-convert');\n",
              "        buttonEl.style.display =\n",
              "          google.colab.kernel.accessAllowed ? 'block' : 'none';\n",
              "\n",
              "        async function convertToInteractive(key) {\n",
              "          const element = document.querySelector('#df-084925b8-1c0c-4a35-a0c4-a5a2303d15d9');\n",
              "          const dataTable =\n",
              "            await google.colab.kernel.invokeFunction('convertToInteractive',\n",
              "                                                     [key], {});\n",
              "          if (!dataTable) return;\n",
              "\n",
              "          const docLinkHtml = 'Like what you see? Visit the ' +\n",
              "            '<a target=\"_blank\" href=https://colab.research.google.com/notebooks/data_table.ipynb>data table notebook</a>'\n",
              "            + ' to learn more about interactive tables.';\n",
              "          element.innerHTML = '';\n",
              "          dataTable['output_type'] = 'display_data';\n",
              "          await google.colab.output.renderOutput(dataTable, element);\n",
              "          const docLink = document.createElement('div');\n",
              "          docLink.innerHTML = docLinkHtml;\n",
              "          element.appendChild(docLink);\n",
              "        }\n",
              "      </script>\n",
              "    </div>\n",
              "  </div>\n",
              "  "
            ]
          },
          "metadata": {},
          "execution_count": 14
        }
      ]
    },
    {
      "cell_type": "code",
      "source": [
        "df02['Año'] = df02['Año'].astype('str').str.extractall('(\\d+)').unstack().fillna('').sum(axis=1).astype('int')"
      ],
      "metadata": {
        "id": "m5NB49KtIbwv"
      },
      "execution_count": 15,
      "outputs": []
    },
    {
      "cell_type": "markdown",
      "source": [
        "### ***Operacion 04***"
      ],
      "metadata": {
        "id": "VvdtmDrxwqjo"
      }
    },
    {
      "cell_type": "markdown",
      "source": [
        "*La `Operación04` se empleó solo para el Dataframe 03, pues el dato de año es un rango, por lo que primero se debe extraer solo los números que contenga. Para ello, se empleó una función similar a la Operación 03 que permitía tener solo los números del año. Sin embargo, para los rangos de años, se extrajo los ultimos 4 digitos del resultado de la primera función con la función de módulo*"
      ],
      "metadata": {
        "id": "vuw6PfOTSNPk"
      }
    },
    {
      "cell_type": "code",
      "source": [
        "def Operacion04(df):\n",
        "  df['Año'] = df['Año'].astype('str').str.extractall('(\\d+)').unstack().fillna('').sum(axis=1).astype('int')\n",
        "  df['Año'] = df['Año']%10000"
      ],
      "metadata": {
        "id": "Cjwv5TVKMTAi"
      },
      "execution_count": 16,
      "outputs": []
    },
    {
      "cell_type": "code",
      "source": [
        "Operacion04(df03)"
      ],
      "metadata": {
        "id": "jMii_x_LQTlR"
      },
      "execution_count": 17,
      "outputs": []
    },
    {
      "cell_type": "code",
      "source": [
        "#Transformacion de Votos para dataframe03\n",
        "df03['Votos'] = df03['Votos'].astype('str').str.extractall('(\\d+)').unstack().fillna('').sum(axis=1).astype('int')"
      ],
      "metadata": {
        "id": "wMP_luaGtMmJ"
      },
      "execution_count": 18,
      "outputs": []
    },
    {
      "cell_type": "markdown",
      "source": [
        "### ***Operacion 05***"
      ],
      "metadata": {
        "id": "dIONS4Ndw0G1"
      }
    },
    {
      "cell_type": "markdown",
      "source": [
        "*Para la `Operacion 05` se realizó una agrupación por año de los votos de cada dataset. En base a ello, se sacó el mínimo, máximo y longitud de la variable Votos (se refiere a cuantas personas votaron por la película, videojuego o serie en IMDB), con la función `agg` que recibe como argumentos len, min y max*"
      ],
      "metadata": {
        "id": "NRVvXEMMeT2Q"
      }
    },
    {
      "cell_type": "code",
      "source": [
        "def Operacion05(df):\n",
        "  resultado = df.groupby(['Año']).Votos.agg([len, min, max]).sort_index(ascending=True)\n",
        "  return resultado"
      ],
      "metadata": {
        "id": "Y_jOtus0bF7D"
      },
      "execution_count": 19,
      "outputs": []
    },
    {
      "cell_type": "code",
      "source": [
        "Votos01 = Operacion05(df01)\n",
        "Votos02 = Operacion05(df02)\n",
        "Votos03 = Operacion05(df03)"
      ],
      "metadata": {
        "id": "jUep7FuNcwst"
      },
      "execution_count": 20,
      "outputs": []
    },
    {
      "cell_type": "markdown",
      "source": [
        "### ***Operacion 06***"
      ],
      "metadata": {
        "id": "aZvv7h9Jw2At"
      }
    },
    {
      "cell_type": "markdown",
      "source": [
        "*En la `Operacion 06` se extrajo una muestra de los datasets 1 y 3, pues se necesitaba tener una misma cantidad de datos para poder una mejor visualización en el gráfico 01. Esto se realizó con la función `sample`, para después ordenar el resultado por su índice. El índice de estos dataframes son los años en que salió la película, serie o videojuego; por lo que se debía tener un orden específico para realizar el gráfico 01.*"
      ],
      "metadata": {
        "id": "0FFghCSqnPWz"
      }
    },
    {
      "cell_type": "code",
      "source": [
        "#OPERACION 06\n",
        "d1 = Votos01.sample(n=29).sort_index(ascending = True)\n",
        "d3 = Votos03.sample(n=29).sort_index(ascending = True)\n",
        "Votos02.sort_index(ascending = True, inplace = True)"
      ],
      "metadata": {
        "id": "OgkxQGL5ryfe"
      },
      "execution_count": 21,
      "outputs": []
    },
    {
      "cell_type": "markdown",
      "source": [
        "### ***Operacion 07***"
      ],
      "metadata": {
        "id": "FaJwlo4LxI33"
      }
    },
    {
      "cell_type": "markdown",
      "source": [
        "*La `Operacion 07` ayudará a construir el segundo gráfico, pues se empleará los datos del df01 (Películas) donde se agruparán los datos por la Calificación, sumando los valores de la variable Recaudacion y ordenandolas de menor a mayor.*"
      ],
      "metadata": {
        "id": "vNcMrt7E2feD"
      }
    },
    {
      "cell_type": "code",
      "source": [
        "df01CalRec = df01.groupby(['Calificacion']).Recaudacion.agg(sum).sort_values()\n",
        "df01CalRec = df01CalRec.to_frame().reset_index()\n",
        "df01CalRec.head(3)"
      ],
      "metadata": {
        "colab": {
          "base_uri": "https://localhost:8080/",
          "height": 143
        },
        "id": "a1IA1ADExMB8",
        "outputId": "54a1acf1-b594-4e30-f8e0-cdd15bb04df9"
      },
      "execution_count": 22,
      "outputs": [
        {
          "output_type": "execute_result",
          "data": {
            "text/plain": [
              "  Calificacion  Recaudacion\n",
              "0            M        80000\n",
              "1    Not Rated      3690000\n",
              "2           GP     16220000"
            ],
            "text/html": [
              "\n",
              "  <div id=\"df-24f05869-fd00-4cbf-a3d3-fbc5aba901b6\">\n",
              "    <div class=\"colab-df-container\">\n",
              "      <div>\n",
              "<style scoped>\n",
              "    .dataframe tbody tr th:only-of-type {\n",
              "        vertical-align: middle;\n",
              "    }\n",
              "\n",
              "    .dataframe tbody tr th {\n",
              "        vertical-align: top;\n",
              "    }\n",
              "\n",
              "    .dataframe thead th {\n",
              "        text-align: right;\n",
              "    }\n",
              "</style>\n",
              "<table border=\"1\" class=\"dataframe\">\n",
              "  <thead>\n",
              "    <tr style=\"text-align: right;\">\n",
              "      <th></th>\n",
              "      <th>Calificacion</th>\n",
              "      <th>Recaudacion</th>\n",
              "    </tr>\n",
              "  </thead>\n",
              "  <tbody>\n",
              "    <tr>\n",
              "      <th>0</th>\n",
              "      <td>M</td>\n",
              "      <td>80000</td>\n",
              "    </tr>\n",
              "    <tr>\n",
              "      <th>1</th>\n",
              "      <td>Not Rated</td>\n",
              "      <td>3690000</td>\n",
              "    </tr>\n",
              "    <tr>\n",
              "      <th>2</th>\n",
              "      <td>GP</td>\n",
              "      <td>16220000</td>\n",
              "    </tr>\n",
              "  </tbody>\n",
              "</table>\n",
              "</div>\n",
              "      <button class=\"colab-df-convert\" onclick=\"convertToInteractive('df-24f05869-fd00-4cbf-a3d3-fbc5aba901b6')\"\n",
              "              title=\"Convert this dataframe to an interactive table.\"\n",
              "              style=\"display:none;\">\n",
              "        \n",
              "  <svg xmlns=\"http://www.w3.org/2000/svg\" height=\"24px\"viewBox=\"0 0 24 24\"\n",
              "       width=\"24px\">\n",
              "    <path d=\"M0 0h24v24H0V0z\" fill=\"none\"/>\n",
              "    <path d=\"M18.56 5.44l.94 2.06.94-2.06 2.06-.94-2.06-.94-.94-2.06-.94 2.06-2.06.94zm-11 1L8.5 8.5l.94-2.06 2.06-.94-2.06-.94L8.5 2.5l-.94 2.06-2.06.94zm10 10l.94 2.06.94-2.06 2.06-.94-2.06-.94-.94-2.06-.94 2.06-2.06.94z\"/><path d=\"M17.41 7.96l-1.37-1.37c-.4-.4-.92-.59-1.43-.59-.52 0-1.04.2-1.43.59L10.3 9.45l-7.72 7.72c-.78.78-.78 2.05 0 2.83L4 21.41c.39.39.9.59 1.41.59.51 0 1.02-.2 1.41-.59l7.78-7.78 2.81-2.81c.8-.78.8-2.07 0-2.86zM5.41 20L4 18.59l7.72-7.72 1.47 1.35L5.41 20z\"/>\n",
              "  </svg>\n",
              "      </button>\n",
              "      \n",
              "  <style>\n",
              "    .colab-df-container {\n",
              "      display:flex;\n",
              "      flex-wrap:wrap;\n",
              "      gap: 12px;\n",
              "    }\n",
              "\n",
              "    .colab-df-convert {\n",
              "      background-color: #E8F0FE;\n",
              "      border: none;\n",
              "      border-radius: 50%;\n",
              "      cursor: pointer;\n",
              "      display: none;\n",
              "      fill: #1967D2;\n",
              "      height: 32px;\n",
              "      padding: 0 0 0 0;\n",
              "      width: 32px;\n",
              "    }\n",
              "\n",
              "    .colab-df-convert:hover {\n",
              "      background-color: #E2EBFA;\n",
              "      box-shadow: 0px 1px 2px rgba(60, 64, 67, 0.3), 0px 1px 3px 1px rgba(60, 64, 67, 0.15);\n",
              "      fill: #174EA6;\n",
              "    }\n",
              "\n",
              "    [theme=dark] .colab-df-convert {\n",
              "      background-color: #3B4455;\n",
              "      fill: #D2E3FC;\n",
              "    }\n",
              "\n",
              "    [theme=dark] .colab-df-convert:hover {\n",
              "      background-color: #434B5C;\n",
              "      box-shadow: 0px 1px 3px 1px rgba(0, 0, 0, 0.15);\n",
              "      filter: drop-shadow(0px 1px 2px rgba(0, 0, 0, 0.3));\n",
              "      fill: #FFFFFF;\n",
              "    }\n",
              "  </style>\n",
              "\n",
              "      <script>\n",
              "        const buttonEl =\n",
              "          document.querySelector('#df-24f05869-fd00-4cbf-a3d3-fbc5aba901b6 button.colab-df-convert');\n",
              "        buttonEl.style.display =\n",
              "          google.colab.kernel.accessAllowed ? 'block' : 'none';\n",
              "\n",
              "        async function convertToInteractive(key) {\n",
              "          const element = document.querySelector('#df-24f05869-fd00-4cbf-a3d3-fbc5aba901b6');\n",
              "          const dataTable =\n",
              "            await google.colab.kernel.invokeFunction('convertToInteractive',\n",
              "                                                     [key], {});\n",
              "          if (!dataTable) return;\n",
              "\n",
              "          const docLinkHtml = 'Like what you see? Visit the ' +\n",
              "            '<a target=\"_blank\" href=https://colab.research.google.com/notebooks/data_table.ipynb>data table notebook</a>'\n",
              "            + ' to learn more about interactive tables.';\n",
              "          element.innerHTML = '';\n",
              "          dataTable['output_type'] = 'display_data';\n",
              "          await google.colab.output.renderOutput(dataTable, element);\n",
              "          const docLink = document.createElement('div');\n",
              "          docLink.innerHTML = docLinkHtml;\n",
              "          element.appendChild(docLink);\n",
              "        }\n",
              "      </script>\n",
              "    </div>\n",
              "  </div>\n",
              "  "
            ]
          },
          "metadata": {},
          "execution_count": 22
        }
      ]
    },
    {
      "cell_type": "markdown",
      "source": [
        "### ***Operacion 08***"
      ],
      "metadata": {
        "id": "cTcJw968JLPb"
      }
    },
    {
      "cell_type": "markdown",
      "source": [
        "*Para la `Operacion 08` se realizó un agrupamiento con la variable Certificado y se realizó una sumatoria de los Votos agrupados. Finalmente, con la función `reset_index` se puede tener una fila de la variable Certificado.*"
      ],
      "metadata": {
        "id": "7208bGMCRf5k"
      }
    },
    {
      "cell_type": "code",
      "source": [
        "videogamesCertif = df02.groupby(['Certificado']).Votos.agg([sum]).reset_index()\n",
        "videogamesCertif.head()"
      ],
      "metadata": {
        "colab": {
          "base_uri": "https://localhost:8080/",
          "height": 206
        },
        "id": "RAG2sLXGZaLi",
        "outputId": "a2ef736d-2899-4deb-a6e1-c5d9deb63dd4"
      },
      "execution_count": 23,
      "outputs": [
        {
          "output_type": "execute_result",
          "data": {
            "text/plain": [
              "  Certificado     sum\n",
              "0           E   36830\n",
              "1        E10+   19737\n",
              "2         K-A    3556\n",
              "3           M  759850\n",
              "4           T  237329"
            ],
            "text/html": [
              "\n",
              "  <div id=\"df-755754dd-f372-46fc-904b-02aea0739b48\">\n",
              "    <div class=\"colab-df-container\">\n",
              "      <div>\n",
              "<style scoped>\n",
              "    .dataframe tbody tr th:only-of-type {\n",
              "        vertical-align: middle;\n",
              "    }\n",
              "\n",
              "    .dataframe tbody tr th {\n",
              "        vertical-align: top;\n",
              "    }\n",
              "\n",
              "    .dataframe thead th {\n",
              "        text-align: right;\n",
              "    }\n",
              "</style>\n",
              "<table border=\"1\" class=\"dataframe\">\n",
              "  <thead>\n",
              "    <tr style=\"text-align: right;\">\n",
              "      <th></th>\n",
              "      <th>Certificado</th>\n",
              "      <th>sum</th>\n",
              "    </tr>\n",
              "  </thead>\n",
              "  <tbody>\n",
              "    <tr>\n",
              "      <th>0</th>\n",
              "      <td>E</td>\n",
              "      <td>36830</td>\n",
              "    </tr>\n",
              "    <tr>\n",
              "      <th>1</th>\n",
              "      <td>E10+</td>\n",
              "      <td>19737</td>\n",
              "    </tr>\n",
              "    <tr>\n",
              "      <th>2</th>\n",
              "      <td>K-A</td>\n",
              "      <td>3556</td>\n",
              "    </tr>\n",
              "    <tr>\n",
              "      <th>3</th>\n",
              "      <td>M</td>\n",
              "      <td>759850</td>\n",
              "    </tr>\n",
              "    <tr>\n",
              "      <th>4</th>\n",
              "      <td>T</td>\n",
              "      <td>237329</td>\n",
              "    </tr>\n",
              "  </tbody>\n",
              "</table>\n",
              "</div>\n",
              "      <button class=\"colab-df-convert\" onclick=\"convertToInteractive('df-755754dd-f372-46fc-904b-02aea0739b48')\"\n",
              "              title=\"Convert this dataframe to an interactive table.\"\n",
              "              style=\"display:none;\">\n",
              "        \n",
              "  <svg xmlns=\"http://www.w3.org/2000/svg\" height=\"24px\"viewBox=\"0 0 24 24\"\n",
              "       width=\"24px\">\n",
              "    <path d=\"M0 0h24v24H0V0z\" fill=\"none\"/>\n",
              "    <path d=\"M18.56 5.44l.94 2.06.94-2.06 2.06-.94-2.06-.94-.94-2.06-.94 2.06-2.06.94zm-11 1L8.5 8.5l.94-2.06 2.06-.94-2.06-.94L8.5 2.5l-.94 2.06-2.06.94zm10 10l.94 2.06.94-2.06 2.06-.94-2.06-.94-.94-2.06-.94 2.06-2.06.94z\"/><path d=\"M17.41 7.96l-1.37-1.37c-.4-.4-.92-.59-1.43-.59-.52 0-1.04.2-1.43.59L10.3 9.45l-7.72 7.72c-.78.78-.78 2.05 0 2.83L4 21.41c.39.39.9.59 1.41.59.51 0 1.02-.2 1.41-.59l7.78-7.78 2.81-2.81c.8-.78.8-2.07 0-2.86zM5.41 20L4 18.59l7.72-7.72 1.47 1.35L5.41 20z\"/>\n",
              "  </svg>\n",
              "      </button>\n",
              "      \n",
              "  <style>\n",
              "    .colab-df-container {\n",
              "      display:flex;\n",
              "      flex-wrap:wrap;\n",
              "      gap: 12px;\n",
              "    }\n",
              "\n",
              "    .colab-df-convert {\n",
              "      background-color: #E8F0FE;\n",
              "      border: none;\n",
              "      border-radius: 50%;\n",
              "      cursor: pointer;\n",
              "      display: none;\n",
              "      fill: #1967D2;\n",
              "      height: 32px;\n",
              "      padding: 0 0 0 0;\n",
              "      width: 32px;\n",
              "    }\n",
              "\n",
              "    .colab-df-convert:hover {\n",
              "      background-color: #E2EBFA;\n",
              "      box-shadow: 0px 1px 2px rgba(60, 64, 67, 0.3), 0px 1px 3px 1px rgba(60, 64, 67, 0.15);\n",
              "      fill: #174EA6;\n",
              "    }\n",
              "\n",
              "    [theme=dark] .colab-df-convert {\n",
              "      background-color: #3B4455;\n",
              "      fill: #D2E3FC;\n",
              "    }\n",
              "\n",
              "    [theme=dark] .colab-df-convert:hover {\n",
              "      background-color: #434B5C;\n",
              "      box-shadow: 0px 1px 3px 1px rgba(0, 0, 0, 0.15);\n",
              "      filter: drop-shadow(0px 1px 2px rgba(0, 0, 0, 0.3));\n",
              "      fill: #FFFFFF;\n",
              "    }\n",
              "  </style>\n",
              "\n",
              "      <script>\n",
              "        const buttonEl =\n",
              "          document.querySelector('#df-755754dd-f372-46fc-904b-02aea0739b48 button.colab-df-convert');\n",
              "        buttonEl.style.display =\n",
              "          google.colab.kernel.accessAllowed ? 'block' : 'none';\n",
              "\n",
              "        async function convertToInteractive(key) {\n",
              "          const element = document.querySelector('#df-755754dd-f372-46fc-904b-02aea0739b48');\n",
              "          const dataTable =\n",
              "            await google.colab.kernel.invokeFunction('convertToInteractive',\n",
              "                                                     [key], {});\n",
              "          if (!dataTable) return;\n",
              "\n",
              "          const docLinkHtml = 'Like what you see? Visit the ' +\n",
              "            '<a target=\"_blank\" href=https://colab.research.google.com/notebooks/data_table.ipynb>data table notebook</a>'\n",
              "            + ' to learn more about interactive tables.';\n",
              "          element.innerHTML = '';\n",
              "          dataTable['output_type'] = 'display_data';\n",
              "          await google.colab.output.renderOutput(dataTable, element);\n",
              "          const docLink = document.createElement('div');\n",
              "          docLink.innerHTML = docLinkHtml;\n",
              "          element.appendChild(docLink);\n",
              "        }\n",
              "      </script>\n",
              "    </div>\n",
              "  </div>\n",
              "  "
            ]
          },
          "metadata": {},
          "execution_count": 23
        }
      ]
    },
    {
      "cell_type": "markdown",
      "source": [
        "### ***Operacion 09***"
      ],
      "metadata": {
        "id": "vkIHUIYiRThA"
      }
    },
    {
      "cell_type": "markdown",
      "source": [
        "*Para la `Operacion 09` se agrupó por la variable Calificación, obteniendo la longitud, mínimo y máximo. Podemos observar que las películas con Calificación Approved, PG-13 y R tienen una Puntuación de 9.0 o más. Esto puede indicar que estas películas con estas calificaciones son las más exitosas en cuanto a crítica. Se usa en el `Gráfico 06`.*"
      ],
      "metadata": {
        "id": "KfXUgwQ2ZsMD"
      }
    },
    {
      "cell_type": "code",
      "source": [
        "dfCalPeliculas = df01.groupby(['Calificacion']).Puntuacion.agg([len, min, max]).reset_index()"
      ],
      "metadata": {
        "id": "oCeqDfIlP7dY"
      },
      "execution_count": 24,
      "outputs": []
    },
    {
      "cell_type": "markdown",
      "source": [
        "### ***Operacion 10***"
      ],
      "metadata": {
        "id": "Xdzx5HoUe6l2"
      }
    },
    {
      "cell_type": "markdown",
      "source": [
        "*Para tener una mejor visualización del tiempo de duración de las películas, se transformó los minutos del tiempo a horas. Esto mediante una función llamada `Operación 10` creado que es aplicada a la variable Duración mediante la función `apply`.*"
      ],
      "metadata": {
        "id": "2cVXtCJ6hKpa"
      }
    },
    {
      "cell_type": "code",
      "source": [
        "def Operacion10(h):\n",
        "    return np.round(h/60, 2)\n",
        "df01['Duracion'] = df01['Duracion'].apply(Operacion10)"
      ],
      "metadata": {
        "id": "8VXu5GrSfKmm"
      },
      "execution_count": 25,
      "outputs": []
    },
    {
      "cell_type": "code",
      "source": [
        "df01.head(3)"
      ],
      "metadata": {
        "colab": {
          "base_uri": "https://localhost:8080/",
          "height": 294
        },
        "id": "4WioCP6HhpkT",
        "outputId": "b71729d1-d2a5-4501-89b8-4c9a5fe8eef0"
      },
      "execution_count": 26,
      "outputs": [
        {
          "output_type": "execute_result",
          "data": {
            "text/plain": [
              "            Nombre_pelicula   Año Calificacion  Duracion  \\\n",
              "1  The Shawshank Redemption  1994            R      2.37   \n",
              "2             The Godfather  1972            R      2.92   \n",
              "3           The Dark Knight  2008        PG-13      2.53   \n",
              "\n",
              "                 Genero  Puntuacion              Director         Actor01  \\\n",
              "1                 Drama         9.3        Frank Darabont     Tim Robbins   \n",
              "2          Crime, Drama         9.2  Francis Ford Coppola   Marlon Brando   \n",
              "3  Action, Crime, Drama         9.0     Christopher Nolan  Christian Bale   \n",
              "\n",
              "          Actor02        Actor03         Actor04    Votos  Metascore  \\\n",
              "1  Morgan Freeman     Bob Gunton  William Sadler  2515762       80.0   \n",
              "2       Al Pacino     James Caan    Diane Keaton  1732749      100.0   \n",
              "3    Heath Ledger  Aaron Eckhart   Michael Caine  2466041       84.0   \n",
              "\n",
              "   Recaudacion  \n",
              "1     28340000  \n",
              "2    134970000  \n",
              "3    534860000  "
            ],
            "text/html": [
              "\n",
              "  <div id=\"df-a6476dcd-7bfd-496c-b5b9-99fd3d43aaa0\">\n",
              "    <div class=\"colab-df-container\">\n",
              "      <div>\n",
              "<style scoped>\n",
              "    .dataframe tbody tr th:only-of-type {\n",
              "        vertical-align: middle;\n",
              "    }\n",
              "\n",
              "    .dataframe tbody tr th {\n",
              "        vertical-align: top;\n",
              "    }\n",
              "\n",
              "    .dataframe thead th {\n",
              "        text-align: right;\n",
              "    }\n",
              "</style>\n",
              "<table border=\"1\" class=\"dataframe\">\n",
              "  <thead>\n",
              "    <tr style=\"text-align: right;\">\n",
              "      <th></th>\n",
              "      <th>Nombre_pelicula</th>\n",
              "      <th>Año</th>\n",
              "      <th>Calificacion</th>\n",
              "      <th>Duracion</th>\n",
              "      <th>Genero</th>\n",
              "      <th>Puntuacion</th>\n",
              "      <th>Director</th>\n",
              "      <th>Actor01</th>\n",
              "      <th>Actor02</th>\n",
              "      <th>Actor03</th>\n",
              "      <th>Actor04</th>\n",
              "      <th>Votos</th>\n",
              "      <th>Metascore</th>\n",
              "      <th>Recaudacion</th>\n",
              "    </tr>\n",
              "  </thead>\n",
              "  <tbody>\n",
              "    <tr>\n",
              "      <th>1</th>\n",
              "      <td>The Shawshank Redemption</td>\n",
              "      <td>1994</td>\n",
              "      <td>R</td>\n",
              "      <td>2.37</td>\n",
              "      <td>Drama</td>\n",
              "      <td>9.3</td>\n",
              "      <td>Frank Darabont</td>\n",
              "      <td>Tim Robbins</td>\n",
              "      <td>Morgan Freeman</td>\n",
              "      <td>Bob Gunton</td>\n",
              "      <td>William Sadler</td>\n",
              "      <td>2515762</td>\n",
              "      <td>80.0</td>\n",
              "      <td>28340000</td>\n",
              "    </tr>\n",
              "    <tr>\n",
              "      <th>2</th>\n",
              "      <td>The Godfather</td>\n",
              "      <td>1972</td>\n",
              "      <td>R</td>\n",
              "      <td>2.92</td>\n",
              "      <td>Crime, Drama</td>\n",
              "      <td>9.2</td>\n",
              "      <td>Francis Ford Coppola</td>\n",
              "      <td>Marlon Brando</td>\n",
              "      <td>Al Pacino</td>\n",
              "      <td>James Caan</td>\n",
              "      <td>Diane Keaton</td>\n",
              "      <td>1732749</td>\n",
              "      <td>100.0</td>\n",
              "      <td>134970000</td>\n",
              "    </tr>\n",
              "    <tr>\n",
              "      <th>3</th>\n",
              "      <td>The Dark Knight</td>\n",
              "      <td>2008</td>\n",
              "      <td>PG-13</td>\n",
              "      <td>2.53</td>\n",
              "      <td>Action, Crime, Drama</td>\n",
              "      <td>9.0</td>\n",
              "      <td>Christopher Nolan</td>\n",
              "      <td>Christian Bale</td>\n",
              "      <td>Heath Ledger</td>\n",
              "      <td>Aaron Eckhart</td>\n",
              "      <td>Michael Caine</td>\n",
              "      <td>2466041</td>\n",
              "      <td>84.0</td>\n",
              "      <td>534860000</td>\n",
              "    </tr>\n",
              "  </tbody>\n",
              "</table>\n",
              "</div>\n",
              "      <button class=\"colab-df-convert\" onclick=\"convertToInteractive('df-a6476dcd-7bfd-496c-b5b9-99fd3d43aaa0')\"\n",
              "              title=\"Convert this dataframe to an interactive table.\"\n",
              "              style=\"display:none;\">\n",
              "        \n",
              "  <svg xmlns=\"http://www.w3.org/2000/svg\" height=\"24px\"viewBox=\"0 0 24 24\"\n",
              "       width=\"24px\">\n",
              "    <path d=\"M0 0h24v24H0V0z\" fill=\"none\"/>\n",
              "    <path d=\"M18.56 5.44l.94 2.06.94-2.06 2.06-.94-2.06-.94-.94-2.06-.94 2.06-2.06.94zm-11 1L8.5 8.5l.94-2.06 2.06-.94-2.06-.94L8.5 2.5l-.94 2.06-2.06.94zm10 10l.94 2.06.94-2.06 2.06-.94-2.06-.94-.94-2.06-.94 2.06-2.06.94z\"/><path d=\"M17.41 7.96l-1.37-1.37c-.4-.4-.92-.59-1.43-.59-.52 0-1.04.2-1.43.59L10.3 9.45l-7.72 7.72c-.78.78-.78 2.05 0 2.83L4 21.41c.39.39.9.59 1.41.59.51 0 1.02-.2 1.41-.59l7.78-7.78 2.81-2.81c.8-.78.8-2.07 0-2.86zM5.41 20L4 18.59l7.72-7.72 1.47 1.35L5.41 20z\"/>\n",
              "  </svg>\n",
              "      </button>\n",
              "      \n",
              "  <style>\n",
              "    .colab-df-container {\n",
              "      display:flex;\n",
              "      flex-wrap:wrap;\n",
              "      gap: 12px;\n",
              "    }\n",
              "\n",
              "    .colab-df-convert {\n",
              "      background-color: #E8F0FE;\n",
              "      border: none;\n",
              "      border-radius: 50%;\n",
              "      cursor: pointer;\n",
              "      display: none;\n",
              "      fill: #1967D2;\n",
              "      height: 32px;\n",
              "      padding: 0 0 0 0;\n",
              "      width: 32px;\n",
              "    }\n",
              "\n",
              "    .colab-df-convert:hover {\n",
              "      background-color: #E2EBFA;\n",
              "      box-shadow: 0px 1px 2px rgba(60, 64, 67, 0.3), 0px 1px 3px 1px rgba(60, 64, 67, 0.15);\n",
              "      fill: #174EA6;\n",
              "    }\n",
              "\n",
              "    [theme=dark] .colab-df-convert {\n",
              "      background-color: #3B4455;\n",
              "      fill: #D2E3FC;\n",
              "    }\n",
              "\n",
              "    [theme=dark] .colab-df-convert:hover {\n",
              "      background-color: #434B5C;\n",
              "      box-shadow: 0px 1px 3px 1px rgba(0, 0, 0, 0.15);\n",
              "      filter: drop-shadow(0px 1px 2px rgba(0, 0, 0, 0.3));\n",
              "      fill: #FFFFFF;\n",
              "    }\n",
              "  </style>\n",
              "\n",
              "      <script>\n",
              "        const buttonEl =\n",
              "          document.querySelector('#df-a6476dcd-7bfd-496c-b5b9-99fd3d43aaa0 button.colab-df-convert');\n",
              "        buttonEl.style.display =\n",
              "          google.colab.kernel.accessAllowed ? 'block' : 'none';\n",
              "\n",
              "        async function convertToInteractive(key) {\n",
              "          const element = document.querySelector('#df-a6476dcd-7bfd-496c-b5b9-99fd3d43aaa0');\n",
              "          const dataTable =\n",
              "            await google.colab.kernel.invokeFunction('convertToInteractive',\n",
              "                                                     [key], {});\n",
              "          if (!dataTable) return;\n",
              "\n",
              "          const docLinkHtml = 'Like what you see? Visit the ' +\n",
              "            '<a target=\"_blank\" href=https://colab.research.google.com/notebooks/data_table.ipynb>data table notebook</a>'\n",
              "            + ' to learn more about interactive tables.';\n",
              "          element.innerHTML = '';\n",
              "          dataTable['output_type'] = 'display_data';\n",
              "          await google.colab.output.renderOutput(dataTable, element);\n",
              "          const docLink = document.createElement('div');\n",
              "          docLink.innerHTML = docLinkHtml;\n",
              "          element.appendChild(docLink);\n",
              "        }\n",
              "      </script>\n",
              "    </div>\n",
              "  </div>\n",
              "  "
            ]
          },
          "metadata": {},
          "execution_count": 26
        }
      ]
    },
    {
      "cell_type": "markdown",
      "source": [
        "### ***Operacion extra 01***"
      ],
      "metadata": {
        "id": "bkdmdDi16cEd"
      }
    },
    {
      "cell_type": "markdown",
      "source": [
        "*En la `Operacion extra 01` se utiliza el método Pandas DataFrame.query() que se emplea para consultar las filas basándose en la expresión (condiciones de una o varias columnas) proporcionada y devuelve un nuevo DataFrame. Para este query, se filtro los registros de las series que se hayan estrenado más del año 2000 y con una puntuación de más de 8.5 (es decir series aclamadas por la crítica y el público). Cabe resaltar que la función `query` no tiene una opción para seleccionar ciertas columnas, por lo que se empleó la función `loc` para obtener un top 10 de series mejor valoradas. Esta operación se utilizará para el `Grafico 03`*"
      ],
      "metadata": {
        "id": "RcL0rHXXDJ3C"
      }
    },
    {
      "cell_type": "code",
      "source": [
        "df2000 = df03.query(\"Año > 2000 and Puntuacion > 8.5\")\n",
        "df_series = df2000.loc[:9,['Nombre_serie','Puntuacion']]\n",
        "df_series = df_series.sort_values('Puntuacion')"
      ],
      "metadata": {
        "id": "tuNYpMFQ6heT"
      },
      "execution_count": 27,
      "outputs": []
    },
    {
      "cell_type": "markdown",
      "source": [
        "### ***Operacion extra 02***"
      ],
      "metadata": {
        "id": "yC6xMopwerNF"
      }
    },
    {
      "cell_type": "markdown",
      "source": [
        "*En la `Operacion extra 02`  se emplea la función de `groupby` para poder filtrar con la función `filter` los registros que tengan más de 5 repeticiones en la columna Género. Tras ello, se realizó una sumatoria para tener el totalizado de votos por Género de los Videojuegos. Este dataset obtenido se emplea para la Figura 5*"
      ],
      "metadata": {
        "id": "A2WYew0t_sB1"
      }
    },
    {
      "cell_type": "code",
      "source": [
        "dfGeneroc = df02.groupby(\"Genero\").filter(lambda x: len(x) > 5)\n",
        "videogamesGen = dfGeneroc.groupby(['Genero']).Votos.agg([sum]).reset_index()"
      ],
      "metadata": {
        "id": "PD_1zCbWeu4o"
      },
      "execution_count": 28,
      "outputs": []
    },
    {
      "cell_type": "markdown",
      "source": [
        "## **Visualización de datos**"
      ],
      "metadata": {
        "id": "Q-jxiPhDeKHx"
      }
    },
    {
      "cell_type": "markdown",
      "source": [
        "### ***Gráfico 01***"
      ],
      "metadata": {
        "id": "bUvqI2x4w4NA"
      }
    },
    {
      "cell_type": "markdown",
      "source": [
        "*El  `Grafico 01` se toma por ejes los años y los votos en la página de IMDB. Como resultado podemos decir que las películas han sido más valoradas en esta página que las series. Además podemos observar que los videojuegos a penas tienen votos, empezando a partir de principios del año 2000; es decir, que los pocos votos de los videojuegos a comparación de las series y películas coincide con el nacimiento de este medio de entretenimiento (videojuegos).* "
      ],
      "metadata": {
        "id": "5VqvK2cqDgHQ"
      }
    },
    {
      "cell_type": "code",
      "source": [
        "ax = plt.gca()\n",
        "ax.set_facecolor('#e8eaea')\n",
        "plt.plot(d1.index, d1['max'], label='Peliculas', color='#4AC5BB')\n",
        "plt.plot(Votos02.index, Votos02['max'], label='Videojuegos', color='#FB8281')\n",
        "plt.plot(d3.index, d3['max'], label='Series', color='#F4D25A')\n",
        "plt.title('Grafico 01: Votos a través de los años')\n",
        "plt.xlabel('Años')\n",
        "plt.ylabel('Votos')\n",
        "plt.ticklabel_format(axis=\"y\", style=\"plain\", scilimits=(0,0)) \n",
        "plt.legend()\n",
        "plt.show()"
      ],
      "metadata": {
        "colab": {
          "base_uri": "https://localhost:8080/",
          "height": 472
        },
        "id": "gWqtnrEdgl3S",
        "outputId": "f1252fe2-9f42-402b-8758-2fb5981b4c97"
      },
      "execution_count": 42,
      "outputs": [
        {
          "output_type": "display_data",
          "data": {
            "text/plain": [
              "<Figure size 640x480 with 1 Axes>"
            ],
            "image/png": "[encoded data removed]"
          },
          "metadata": {}
        }
      ]
    },
    {
      "cell_type": "markdown",
      "source": [
        "### ***Gráfico 02***"
      ],
      "metadata": {
        "id": "XaA2H2d9w7hb"
      }
    },
    {
      "cell_type": "markdown",
      "source": [
        "El `Gráfico 02` muestra la distribución de la recaudación de las películas según la calificación que esta tenía.  Para ello, se empleó un stem plot que es muy similar a un gráfico de barras. Para tener un mejor entendimiento, se colocó como base 500 millones de dólares, para poder saber qué clasificaciones sobrepasan este monto, significando que es un rotundo éxito en cuanto a lo económico. Como se pude apreciar, las películas con clasificación **R** y **PG-13 (mayores de 13 años)** fueron las que más dinero recuadaron, por lo que crear este tipo de películas podría significar en muchos casos que será un gran éxito."
      ],
      "metadata": {
        "id": "8ef6-lb9FZFf"
      }
    },
    {
      "cell_type": "code",
      "source": [
        "plt.figure(figsize=(7, 7))\n",
        "ax = plt.gca()\n",
        "ax.set_facecolor('#e8eaea')\n",
        "plt.stem(df01CalRec['Calificacion'],df01CalRec['Recaudacion'], \n",
        "         bottom=500000000, linefmt = '--r', markerfmt = 'ob', basefmt = 'b')\n",
        "plt.title('Grafico 02: Recaudación de películas según su clasificación')\n",
        "plt.xlabel('Calificacion')\n",
        "plt.ylabel('Recaudacion')\n",
        "plt.ticklabel_format(axis=\"y\", style=\"sci\", scilimits=(0,0)) \n",
        "plt.show()"
      ],
      "metadata": {
        "colab": {
          "base_uri": "https://localhost:8080/",
          "height": 657
        },
        "id": "3jgXBamuuanU",
        "outputId": "92c17967-96c5-460d-e64f-f7134d7e6f2d"
      },
      "execution_count": 43,
      "outputs": [
        {
          "output_type": "display_data",
          "data": {
            "text/plain": [
              "<Figure size 700x700 with 1 Axes>"
            ],
            "image/png": "[encoded data removed]"
          },
          "metadata": {}
        }
      ]
    },
    {
      "cell_type": "markdown",
      "source": [
        "### ***Gráfico 03***"
      ],
      "metadata": {
        "id": "ipaWjeRBHEDR"
      }
    },
    {
      "cell_type": "markdown",
      "source": [
        "En el `Gráfico 03` se muestra un top 10 de las series mejor valoradas en IMDB, donde podemos destacar series como Breaking Bad y The Sopranos. Esto se realizó mediante un gráfico de barras basado en los nombres de las series y la puntuación, donde en su mayoría, las series con mayor puntuación tienen igual valor."
      ],
      "metadata": {
        "id": "2SMODqSfH8zk"
      }
    },
    {
      "cell_type": "code",
      "source": [
        "plt.figure(figsize=(18, 6))\n",
        "ax = plt.gca()\n",
        "ax.set_facecolor('#e8eaea')\n",
        "positions = range(len(df_series['Puntuacion']))\n",
        "plt.bar(positions,df_series['Puntuacion'], color = '#FB8281')\n",
        "plt.title('Gráfico 03: Top 10 series')\n",
        "plt.xlabel('Nombre de serie')\n",
        "plt.ylabel('Puntuación')\n",
        "plt.xticks(positions, df_series['Nombre_serie'])\n",
        "plt.show()"
      ],
      "metadata": {
        "colab": {
          "base_uri": "https://localhost:8080/",
          "height": 441
        },
        "id": "mxSOws-gJW38",
        "outputId": "55df8048-2b15-4d56-9ebc-1984210765c0"
      },
      "execution_count": 44,
      "outputs": [
        {
          "output_type": "display_data",
          "data": {
            "text/plain": [
              "<Figure size 1800x600 with 1 Axes>"
            ],
            "image/png": "[encoded data removed]"
          },
          "metadata": {}
        }
      ]
    },
    {
      "cell_type": "markdown",
      "source": [
        "### ***Gráfico 04***"
      ],
      "metadata": {
        "id": "halHjCmwd1dR"
      }
    },
    {
      "cell_type": "markdown",
      "source": [
        "*El `Gráfico 04` muestra la distribución de los votos en la página de IBDM según la calificación del videojuego. Se puede decir que los videojuegos con calificación M (contenido adecuado para mayores de 17 años) tienen más popularidad que por ejemplo los videojuegos con caliicación E (apto para menores de 6 años).* "
      ],
      "metadata": {
        "id": "Cs3HOu5jx1wA"
      }
    },
    {
      "cell_type": "code",
      "source": [
        "ax = plt.gca()\n",
        "ax.set_facecolor('#e8eaea')\n",
        "plt.step(videogamesCertif['Certificado'],videogamesCertif['sum'], '^-',color='#FDAB89', where= 'mid') \n",
        "plt.grid(axis='x', color='0.95')\n",
        "plt.title('Gráfico 04: Total de votos por calificación de los videojuegos')\n",
        "plt.xlabel('Certificado')\n",
        "plt.ylabel('Votos')\n",
        "plt.show()"
      ],
      "metadata": {
        "colab": {
          "base_uri": "https://localhost:8080/",
          "height": 472
        },
        "id": "-nvbwSa4d20Z",
        "outputId": "98b77db4-366e-4c7b-b5b3-f2a9ca8fb934"
      },
      "execution_count": 56,
      "outputs": [
        {
          "output_type": "display_data",
          "data": {
            "text/plain": [
              "<Figure size 640x480 with 1 Axes>"
            ],
            "image/png": "[encoded data removed]"
          },
          "metadata": {}
        }
      ]
    },
    {
      "cell_type": "markdown",
      "source": [
        "### ***Gráfico 05***"
      ],
      "metadata": {
        "id": "cYq8E_5SVScN"
      }
    },
    {
      "cell_type": "markdown",
      "source": [
        "*Como podemos apreciar en el `Gráfico 05`, se nota una amplia diferencia en la preferencia de las personas del sitio web IMDB por los videojuegos de acción aventura y drama y por los de acción, aventura y fantasía. Esto se debe a que estos géneros pertenecen a los videojuegos más reconocidos y aclamados por los usuarios y crítica.*"
      ],
      "metadata": {
        "id": "I_xlj5CxE1dH"
      }
    },
    {
      "cell_type": "code",
      "source": [
        "plt.figure(figsize=(18, 6))\n",
        "ax = plt.gca()\n",
        "ax.set_facecolor('#e8eaea')\n",
        "positions = range(len(videogamesGen['sum']))\n",
        "plt.bar(positions,videogamesGen['sum'], color = '#F4D25A')\n",
        "plt.title('Gráfico 05: Votos por género de los videojuegos')\n",
        "plt.xlabel('Género')\n",
        "plt.ylabel('Votos')\n",
        "plt.xticks(positions, videogamesGen['Genero'])\n",
        "plt.show()\n"
      ],
      "metadata": {
        "colab": {
          "base_uri": "https://localhost:8080/",
          "height": 429
        },
        "id": "VAH28rs_VV6X",
        "outputId": "1fbcc838-3e78-4e9f-fb2e-45235b6cdebb"
      },
      "execution_count": 57,
      "outputs": [
        {
          "output_type": "display_data",
          "data": {
            "text/plain": [
              "<Figure size 1800x600 with 1 Axes>"
            ],
            "image/png": "[encoded data removed]"
          },
          "metadata": {}
        }
      ]
    },
    {
      "cell_type": "markdown",
      "source": [
        "### ***Gráfico 06***"
      ],
      "metadata": {
        "id": "mgg5tdnKb660"
      }
    },
    {
      "cell_type": "markdown",
      "source": [
        "*Como se puede ver en el `Gráfico 06`, todas las calificaciones, a excepción de Approved, PG-13 y R, tienen una calificación menor a 9.0. Es decir, que al ser películas orientadas a un público más específico no tienen tanto reconocimiento como las otras calificaciones.*"
      ],
      "metadata": {
        "id": "ReWoR2ZdeBou"
      }
    },
    {
      "cell_type": "code",
      "source": [
        "plt.figure(figsize=(7, 7))\n",
        "ax = plt.gca()\n",
        "ax.set_facecolor('#e8eaea')\n",
        "plt.stem(dfCalPeliculas['Calificacion'],dfCalPeliculas['max'], \n",
        "         bottom=9, linefmt = '--g', markerfmt = 'or', basefmt = 'g')\n",
        "plt.title('Grafico 06: Puntuación de películas según calificación')\n",
        "plt.xlabel('Calificacion')\n",
        "plt.ylabel('Puntuación')\n",
        "plt.ticklabel_format(axis=\"y\", style=\"sci\", scilimits=(0,0)) \n",
        "plt.show()"
      ],
      "metadata": {
        "colab": {
          "base_uri": "https://localhost:8080/",
          "height": 642
        },
        "id": "WQtw_YZ6cSsS",
        "outputId": "111ec633-014f-4d4c-c716-caa5fe603868"
      },
      "execution_count": 59,
      "outputs": [
        {
          "output_type": "display_data",
          "data": {
            "text/plain": [
              "<Figure size 700x700 with 1 Axes>"
            ],
            "image/png": "[encoded data removed]"
          },
          "metadata": {}
        }
      ]
    }
  ]
}